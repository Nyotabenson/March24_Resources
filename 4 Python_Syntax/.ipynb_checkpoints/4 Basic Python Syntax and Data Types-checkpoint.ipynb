{
 "cells": [
  {
   "cell_type": "markdown",
   "id": "762b6bf4",
   "metadata": {},
   "source": [
    "#  Basic Python Syntax and Data Types"
   ]
  },
  {
   "cell_type": "markdown",
   "id": "7d323a52",
   "metadata": {},
   "source": [
    "## Table of Contents\n",
    "\n",
    "1 Variables and data types\n",
    " * Numbers (integers and floats)\n",
    " * Strings\n",
    " * Booleans\n",
    "    \n",
    "2 Basic operators\n",
    "* Arithmetic operators\n",
    "* Comparison operators\n",
    "* Logical operators\n",
    "\n",
    "3 Basic input and output\n",
    "* input() function\n",
    "* print() function\n",
    "\n",
    "4 Assignment Lab or Practical Work"
   ]
  },
  {
   "cell_type": "markdown",
   "id": "1014fff6",
   "metadata": {},
   "source": [
    "## Variables and data types\n",
    "\n",
    "In Python, a variable is used to store a value. Variables can be assigned different types of data, such as numbers, strings, or booleans."
   ]
  },
  {
   "cell_type": "markdown",
   "id": "2e484a40",
   "metadata": {},
   "source": [
    "### Numbers (integers and floats)\n",
    "\n",
    "In Python, numbers can be integers (whole numbers) or floats (numbers with decimal points). Here are a few examples:"
   ]
  },
  {
   "cell_type": "code",
   "execution_count": 1,
   "id": "846d1369",
   "metadata": {},
   "outputs": [],
   "source": [
    "x = 42              # an integer\n",
    "y = 3.14            # a floating-point number\n"
   ]
  },
  {
   "cell_type": "code",
   "execution_count": 34,
   "id": "578d8512",
   "metadata": {},
   "outputs": [
    {
     "name": "stdout",
     "output_type": "stream",
     "text": [
      "Your age?45\n",
      "my age is 90\n"
     ]
    }
   ],
   "source": [
    "age = int(input(\"Your age?\"))\n",
    "print('my age is', age*2)"
   ]
  },
  {
   "cell_type": "markdown",
   "id": "2f13e576",
   "metadata": {},
   "source": [
    "### Strings\n",
    "Strings are sequences of characters, enclosed in single or double quotes. Here are a few examples:"
   ]
  },
  {
   "cell_type": "code",
   "execution_count": 2,
   "id": "9fe10798",
   "metadata": {},
   "outputs": [],
   "source": [
    "name = 'Alice'\n",
    "greeting = \"Hello, world!\"\n"
   ]
  },
  {
   "cell_type": "markdown",
   "id": "30c8ee3e",
   "metadata": {},
   "source": [
    "### Booleans\n",
    "Booleans are true/false values. In Python, the two possible boolean values are True and False. Here are a few examples:"
   ]
  },
  {
   "cell_type": "code",
   "execution_count": 3,
   "id": "d7438dc4",
   "metadata": {},
   "outputs": [],
   "source": [
    "is_python_fun = True\n",
    "is_coding_hard = False"
   ]
  },
  {
   "cell_type": "markdown",
   "id": "56e982c9",
   "metadata": {},
   "source": [
    "## Basic operators\n",
    "\n",
    "Operators are used to perform operations on variables and values in Python. Here are a few basic operators:"
   ]
  },
  {
   "cell_type": "markdown",
   "id": "3b2d588f",
   "metadata": {},
   "source": [
    "### Arithmetic operators\n",
    "Arithmetic operators are used to perform mathematical operations. Here are a few examples:"
   ]
  },
  {
   "cell_type": "code",
   "execution_count": 4,
   "id": "97c5753d",
   "metadata": {},
   "outputs": [
    {
     "name": "stdout",
     "output_type": "stream",
     "text": [
      "15\n",
      "5\n",
      "50\n",
      "2.0\n"
     ]
    }
   ],
   "source": [
    "x = 10\n",
    "y = 5\n",
    "\n",
    "# addition\n",
    "z = x + y\n",
    "print(z)    # prints 15\n",
    "\n",
    "# subtraction\n",
    "z = x - y\n",
    "print(z)    # prints 5\n",
    "\n",
    "# multiplication\n",
    "z = x * y\n",
    "print(z)    # prints 50\n",
    "\n",
    "# division\n",
    "z = x / y\n",
    "print(z)    # prints 2.0\n"
   ]
  },
  {
   "cell_type": "markdown",
   "id": "9930e72c",
   "metadata": {},
   "source": [
    "### Comparison operators\n",
    "Comparison operators are used to compare two values. Here are a few examples:"
   ]
  },
  {
   "cell_type": "code",
   "execution_count": 7,
   "id": "40d8637d",
   "metadata": {},
   "outputs": [
    {
     "name": "stdout",
     "output_type": "stream",
     "text": [
      "True\n",
      "False\n",
      "False\n",
      "True\n"
     ]
    }
   ],
   "source": [
    "x = 10\n",
    "y = 5\n",
    "\n",
    "# greater than\n",
    "print(x > y)    # prints True\n",
    "\n",
    "# less than\n",
    "print(x < y)    # prints False\n",
    "\n",
    "# equal to\n",
    "print(x == y)   # prints False\n",
    "\n",
    "# not equal to\n",
    "print(x != y)   # prints True\n"
   ]
  },
  {
   "cell_type": "markdown",
   "id": "9276fbb9",
   "metadata": {},
   "source": [
    "### Logical operators\n",
    "\n",
    "Logical operators are used to combine multiple conditions. Here are a few examples:"
   ]
  },
  {
   "cell_type": "code",
   "execution_count": 8,
   "id": "0ec90330",
   "metadata": {},
   "outputs": [
    {
     "name": "stdout",
     "output_type": "stream",
     "text": [
      "True\n",
      "True\n",
      "False\n"
     ]
    }
   ],
   "source": [
    "x = 10\n",
    "y = 5\n",
    "z = 7\n",
    "\n",
    "# and\n",
    "print(x > y and y < z)    # prints True\n",
    "\n",
    "# or\n",
    "print(x > y or y > z)     # prints True\n",
    "\n",
    "# not\n",
    "print(not(x > y))         # prints False\n"
   ]
  },
  {
   "cell_type": "markdown",
   "id": "d2ce7e4b",
   "metadata": {},
   "source": [
    "## Basic input and output\n",
    "\n",
    "In Python, we can use the input() function to prompt the user for input, and the print() function to output text.\n",
    "\n"
   ]
  },
  {
   "cell_type": "markdown",
   "id": "190ded43",
   "metadata": {},
   "source": [
    "### input() function\n",
    "The input() function prompts the user to enter input. Here's an example:"
   ]
  },
  {
   "cell_type": "code",
   "execution_count": 9,
   "id": "dc598e5e",
   "metadata": {},
   "outputs": [
    {
     "name": "stdout",
     "output_type": "stream",
     "text": [
      "Enter your name: benson\n",
      "Hello, benson!\n"
     ]
    }
   ],
   "source": [
    "name = input(\"Enter your name: \")\n",
    "print(\"Hello, \" + name + \"!\")\n"
   ]
  },
  {
   "cell_type": "markdown",
   "id": "aa2baf51",
   "metadata": {},
   "source": [
    "### print() function\n",
    "The print() function outputs text. Here's an example:"
   ]
  },
  {
   "cell_type": "code",
   "execution_count": 10,
   "id": "8553cae8",
   "metadata": {},
   "outputs": [
    {
     "name": "stdout",
     "output_type": "stream",
     "text": [
      "Hello, world!\n"
     ]
    }
   ],
   "source": [
    "print(\"Hello, world!\")\n"
   ]
  },
  {
   "cell_type": "markdown",
   "id": "6f66e5b9",
   "metadata": {},
   "source": [
    "You can also use the print() function to output the value of a variable:"
   ]
  },
  {
   "cell_type": "code",
   "execution_count": null,
   "id": "f73438b4",
   "metadata": {},
   "outputs": [],
   "source": [
    "x = 42\n",
    "print(\"The value of x is:\", x)\n"
   ]
  },
  {
   "cell_type": "code",
   "execution_count": 18,
   "id": "184e5320",
   "metadata": {},
   "outputs": [
    {
     "data": {
      "text/plain": [
       "42"
      ]
     },
     "execution_count": 18,
     "metadata": {},
     "output_type": "execute_result"
    }
   ],
   "source": [
    "x=42\n",
    "x"
   ]
  },
  {
   "cell_type": "code",
   "execution_count": 19,
   "id": "7f314625",
   "metadata": {},
   "outputs": [
    {
     "name": "stdout",
     "output_type": "stream",
     "text": [
      "42\n"
     ]
    }
   ],
   "source": [
    "x=42\n",
    "print(x)"
   ]
  },
  {
   "cell_type": "markdown",
   "id": "2a13f8bf",
   "metadata": {},
   "source": [
    "# Assignment Lab or Practical Work"
   ]
  },
  {
   "cell_type": "markdown",
   "id": "9f7d3f9d",
   "metadata": {},
   "source": [
    "## Basic Python Syntax and Data Types Assignment using Replit"
   ]
  },
  {
   "cell_type": "markdown",
   "id": "cf6e103f",
   "metadata": {},
   "source": [
    "### Objective:\n",
    "The goal of this assignment is to help you practice basic Python syntax and understand common data types. You will use Replit to write, run, and share Python scripts that demonstrate your understanding of variables, numbers, strings, booleans, basic operators, and input/output functions."
   ]
  },
  {
   "cell_type": "markdown",
   "id": "01f41b80",
   "metadata": {},
   "source": [
    "## Tasks:\n",
    "\n",
    "### 1 Create a new Python Repl:\n",
    "\n",
    "* Follow the instructions in the \"Getting Started with Replit Python\" tutorial to create a new Python Repl.\n",
    "* Name your Repl \"Day2PythonBasicsAssignment\"."
   ]
  },
  {
   "cell_type": "markdown",
   "id": "2967e097",
   "metadata": {},
   "source": [
    "### 2 Demonstrate the use of variables and data types:\n",
    "\n",
    "* In your Python Repl, create variables of different data types (integers, floats, strings, and booleans) and assign them appropriate values.\n",
    "* Use the print() function to display the variables and their types in the console.\n"
   ]
  },
  {
   "cell_type": "markdown",
   "id": "6c2877bf",
   "metadata": {},
   "source": [
    "### 3 Perform arithmetic operations:\n",
    "\n",
    "* In your Python Repl, write a Python script that demonstrates the use of arithmetic operators (addition, subtraction, multiplication, division, modulo, and exponentiation) with integer and float variables.\n",
    "* Print the results of the operations in the console.\n"
   ]
  },
  {
   "cell_type": "markdown",
   "id": "5dee25d8",
   "metadata": {},
   "source": [
    "### 4 Demonstrate the use of comparison and logical operators:\n",
    "\n",
    "* In your Python Repl, write a Python script that demonstrates the use of comparison operators (equal to, not equal to, greater than, less than, greater than or equal to, less than or equal to) and logical operators (and, or, not) with integer and boolean variables.\n",
    "* Print the results of the operations in the console.\n"
   ]
  },
  {
   "cell_type": "markdown",
   "id": "e34185f2",
   "metadata": {},
   "source": [
    "### 5 Create a Python script that takes user input and performs basic calculations:\n",
    "\n",
    "* In your Python Repl, write a Python script that prompts the user for two numbers using the input() function.\n",
    "* Convert the entered values from strings to integers or floats as needed.\n",
    "* Perform addition, subtraction, multiplication, and division operations on the entered numbers."
   ]
  },
  {
   "cell_type": "markdown",
   "id": "e2a59cf9",
   "metadata": {},
   "source": [
    "### 6 Share your Python Repl:\n",
    "\n",
    "Once you have completed the tasks above, share your Repl by following the instructions in the \"Getting Started with Replit Python\" tutorial.\n",
    "Submit the link to your shared Repl as your assignment.\n",
    "\n",
    "\n",
    "Note: If you encounter any difficulties or have questions about Python syntax, you can refer to the Python documentation (https://docs.python.org/3/) or ask for help from your instructor or peers."
   ]
  },
  {
   "cell_type": "code",
   "execution_count": null,
   "id": "b4ddf73f",
   "metadata": {},
   "outputs": [],
   "source": []
  },
  {
   "cell_type": "code",
   "execution_count": null,
   "id": "8d04afb1-dcba-44db-bbd3-9e42e167c769",
   "metadata": {},
   "outputs": [],
   "source": []
  }
 ],
 "metadata": {
  "kernelspec": {
   "display_name": "Python 3 (ipykernel)",
   "language": "python",
   "name": "python3"
  },
  "language_info": {
   "codemirror_mode": {
    "name": "ipython",
    "version": 3
   },
   "file_extension": ".py",
   "mimetype": "text/x-python",
   "name": "python",
   "nbconvert_exporter": "python",
   "pygments_lexer": "ipython3",
   "version": "3.12.1"
  }
 },
 "nbformat": 4,
 "nbformat_minor": 5
}
