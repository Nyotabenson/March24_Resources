{
 "cells": [
  {
   "cell_type": "markdown",
   "id": "3f0eb338",
   "metadata": {},
   "source": [
    "# Pandas"
   ]
  },
  {
   "cell_type": "markdown",
   "id": "7e365e21",
   "metadata": {},
   "source": [
    "### 1 Introduction to Pandas\n",
    "\n",
    "* What is Pandas?\n",
    "* Why use Pandas?\n",
    "* Installing Pandas\n",
    "\n",
    "### 2 Core Pandas Data Structures\n",
    "\n",
    "* Series\n",
    "* DataFrame\n",
    "\n",
    "### 3 Data Import and Export\n",
    "\n",
    "* Reading data from various file formats (CSV, Excel, JSON, etc.)\n",
    "* Writing data to various file formats\n",
    "\n",
    "### 4 Data Exploration and Analysis\n",
    "* Head, tail\n",
    "* Indexing and slicing data\n",
    "* Descriptive statistics\n",
    "* Sorting data\n",
    "* Filtering data\n",
    "* Grouping and aggregating data\n",
    "\n",
    "### 5 Data Manipulation\n",
    "* Renaming columns and indexes\n",
    "* Handling missing data\n",
    "* Merging, joining, and concatenating DataFrames\n",
    "* Reshaping and pivoting data\n",
    "* Applying functions to data\n",
    "* Column  operations\n",
    "* row operations \n",
    "\n",
    "### 6 Assignment: Getting Started with Pandas"
   ]
  },
  {
   "cell_type": "markdown",
   "id": "9c59d5fa",
   "metadata": {},
   "source": [
    "## Introduction to Pandas"
   ]
  },
  {
   "cell_type": "markdown",
   "id": "a3af3d65",
   "metadata": {},
   "source": [
    "### What is Pandas?\n",
    "Pandas is an open-source Python library that provides easy-to-use and powerful data structures, as well as data analysis tools. The name \"Pandas\" is derived from the term \"Panel Data,\" which is a term used in statistics and econometrics to describe multi-dimensional structured data sets. It was created by Wes McKinney in 2008 and has since become one of the most popular libraries for data manipulation and analysis in Python.\n",
    "\n",
    "\n",
    "Pandas primarily offers two data structures: Series and DataFrame. A Series is a one-dimensional array-like object that can hold any data type, while a DataFrame is a two-dimensional tabular data structure with labeled axes (rows and columns). These data structures make it easy to manipulate, clean, and analyze data in Python."
   ]
  },
  {
   "cell_type": "markdown",
   "id": "cb8b6263",
   "metadata": {},
   "source": [
    "### Why use Pandas?\n",
    "\n",
    "Pandas is widely used because it offers several benefits for data analysis, including:\n",
    "\n",
    "* Ease of use: Pandas provides an intuitive and user-friendly interface for working with data, making it accessible to both programmers and non-programmers alike.\n",
    "\n",
    "    \n",
    "    \n",
    "* Flexibility: Pandas can handle data of various formats and types, including CSV, Excel, SQL, JSON, and more. It can work with data ranging from small to large datasets and can perform complex operations with minimal code.\n",
    "\n",
    "    \n",
    "    \n",
    "* Efficiency: Pandas is built on top of NumPy, a powerful numerical computing library in Python, which allows for fast and efficient data manipulation and computation.\n",
    "\n",
    "    \n",
    "    \n",
    "* Compatibility: Pandas integrates well with other Python libraries like Matplotlib and Seaborn for data visualization, and Scikit-learn for machine learning.\n",
    "\n",
    "    \n",
    "    \n",
    "* Rich ecosystem: The Pandas library has a large and active community, which continuously contributes to its development, adding new features and improvements."
   ]
  },
  {
   "cell_type": "markdown",
   "id": "b9a0c877",
   "metadata": {},
   "source": [
    "### Installing Pandas"
   ]
  },
  {
   "cell_type": "markdown",
   "id": "205e064c",
   "metadata": {},
   "source": [
    "NB : If you are working with Jupyter Notebook or Google Colab, Pandas  should already be installed."
   ]
  },
  {
   "cell_type": "markdown",
   "id": "550cd999",
   "metadata": {},
   "source": [
    "To install Pandas, you can use the package manager pip (for Python 2) or pip3 (for Python 3). Open your terminal or command prompt and type the following command:"
   ]
  },
  {
   "cell_type": "code",
   "execution_count": 40,
   "id": "6a40519f",
   "metadata": {},
   "outputs": [
    {
     "name": "stdout",
     "output_type": "stream",
     "text": [
      "Requirement already satisfied: pandas in c:\\users\\tekin_dealers\\anaconda3\\lib\\site-packages (2.0.3)Note: you may need to restart the kernel to use updated packages.\n",
      "\n",
      "Requirement already satisfied: python-dateutil>=2.8.2 in c:\\users\\tekin_dealers\\anaconda3\\lib\\site-packages (from pandas) (2.8.2)\n",
      "Requirement already satisfied: pytz>=2020.1 in c:\\users\\tekin_dealers\\anaconda3\\lib\\site-packages (from pandas) (2023.3.post1)\n",
      "Requirement already satisfied: tzdata>=2022.1 in c:\\users\\tekin_dealers\\anaconda3\\lib\\site-packages (from pandas) (2023.3)\n",
      "Requirement already satisfied: numpy>=1.21.0 in c:\\users\\tekin_dealers\\anaconda3\\lib\\site-packages (from pandas) (1.24.3)\n",
      "Requirement already satisfied: six>=1.5 in c:\\users\\tekin_dealers\\anaconda3\\lib\\site-packages (from python-dateutil>=2.8.2->pandas) (1.16.0)\n"
     ]
    }
   ],
   "source": [
    "pip install pandas"
   ]
  },
  {
   "cell_type": "markdown",
   "id": "82c64d6a",
   "metadata": {},
   "source": [
    "For those using Anaconda distribution, you can install Pandas using the conda package manager:"
   ]
  },
  {
   "cell_type": "code",
   "execution_count": null,
   "id": "4c8839c9",
   "metadata": {},
   "outputs": [],
   "source": [
    "conda install pandas\n"
   ]
  },
  {
   "cell_type": "markdown",
   "id": "a5f2f943",
   "metadata": {},
   "source": [
    "Once the installation is complete, you can verify the installation by importing Pandas in your Python script or Jupyter Notebook:"
   ]
  },
  {
   "cell_type": "code",
   "execution_count": 48,
   "id": "18316f9e",
   "metadata": {},
   "outputs": [],
   "source": [
    "import pandas as pd"
   ]
  },
  {
   "cell_type": "markdown",
   "id": "7266fef4",
   "metadata": {},
   "source": [
    "The pd alias is a convention used by the Pandas community to simplify the usage of Pandas functions and methods."
   ]
  },
  {
   "cell_type": "markdown",
   "id": "7249a952",
   "metadata": {},
   "source": [
    "## Core Pandas Data Structures"
   ]
  },
  {
   "cell_type": "markdown",
   "id": "00e5807f",
   "metadata": {},
   "source": [
    "Pandas provides two primary data structures: Series and DataFrame. These data structures are designed to handle a wide variety of data types and formats, making it easy to work with and manipulate data in Python."
   ]
  },
  {
   "cell_type": "markdown",
   "id": "4a4aeb66",
   "metadata": {},
   "source": [
    "### Series\n",
    "\n",
    "A Series is a one-dimensional, labeled array capable of holding any data type (integers, strings, floats, Python objects, etc.). It has an index that labels each element in the vector. You can think of a Series as similar to a Python list with labels for each element.\n",
    "\n",
    "#### Creating a Series\n",
    "\n",
    "You can create a Series by passing a list of values and, optionally, an index. If you don't provide an index, Pandas will create a default integer index ranging from 0 to the length of the data minus one."
   ]
  },
  {
   "cell_type": "code",
   "execution_count": 46,
   "id": "f4fc270d",
   "metadata": {},
   "outputs": [
    {
     "data": {
      "text/plain": [
       "0    4\n",
       "1    7\n",
       "2   -5\n",
       "3    3\n",
       "dtype: int64"
      ]
     },
     "execution_count": 46,
     "metadata": {},
     "output_type": "execute_result"
    }
   ],
   "source": [
    "import pandas as pd\n",
    "\n",
    "# Creating a Series with default index\n",
    "data = [4, 7, -5, 3]\n",
    "s1 = pd.Series(data)\n",
    "print(s1)"
   ]
  },
  {
   "cell_type": "code",
   "execution_count": 47,
   "id": "79feb858-200d-4fc1-b8db-d53839f7605f",
   "metadata": {},
   "outputs": [
    {
     "name": "stdout",
     "output_type": "stream",
     "text": [
      "a    4\n",
      "b    7\n",
      "c   -5\n",
      "d    3\n",
      "dtype: int64\n"
     ]
    }
   ],
   "source": [
    "# Creating a Series with a custom index\n",
    "\n",
    "index = ['a', 'b', 'c', 'd']\n",
    "s2 = pd.Series(data, index=index)\n",
    "print(s2)"
   ]
  },
  {
   "cell_type": "markdown",
   "id": "db73779d",
   "metadata": {},
   "source": [
    "### DataFrame\n",
    "A DataFrame is a two-dimensional, size-mutable, and potentially heterogeneous tabular data structure with labeled axes (rows and columns). You can think of a DataFrame as a table in a spreadsheet, where data is organized in rows and columns.\n",
    "\n",
    "#### Creating a DataFrame\n",
    "There are multiple ways to create a DataFrame. Some common ways include:\n",
    "\n",
    "* From a Series\n",
    "* Reading data from external sources (CSV, Excel, JSON, etc.)"
   ]
  },
  {
   "cell_type": "markdown",
   "id": "e9ca797b",
   "metadata": {},
   "source": [
    " From a Series\n"
   ]
  },
  {
   "cell_type": "code",
   "execution_count": 51,
   "id": "ac02b42d",
   "metadata": {},
   "outputs": [
    {
     "name": "stdout",
     "output_type": "stream",
     "text": [
      "0    25\n",
      "1    30\n",
      "2    35\n",
      "3    40\n",
      "Name: age, dtype: int64\n"
     ]
    }
   ],
   "source": [
    "import pandas as pd\n",
    "\n",
    "s1 = pd.Series([25, 30, 35, 40], name='age')\n",
    "print(s1)"
   ]
  },
  {
   "cell_type": "code",
   "execution_count": 52,
   "id": "b99e05d4-69e7-4b42-9aa8-0e91a9c75b03",
   "metadata": {},
   "outputs": [
    {
     "data": {
      "text/plain": [
       "0         New York\n",
       "1    San Francisco\n",
       "2      Los Angeles\n",
       "3          Chicago\n",
       "Name: city, dtype: object"
      ]
     },
     "execution_count": 52,
     "metadata": {},
     "output_type": "execute_result"
    }
   ],
   "source": [
    "s2 = pd.Series(['New York', 'San Francisco', 'Los Angeles', 'Chicago'], name='city')\n",
    "s2"
   ]
  },
  {
   "cell_type": "code",
   "execution_count": 53,
   "id": "1c11b759-fbb6-40ed-9354-5ec5303675b4",
   "metadata": {},
   "outputs": [
    {
     "data": {
      "text/html": [
       "<div>\n",
       "<style scoped>\n",
       "    .dataframe tbody tr th:only-of-type {\n",
       "        vertical-align: middle;\n",
       "    }\n",
       "\n",
       "    .dataframe tbody tr th {\n",
       "        vertical-align: top;\n",
       "    }\n",
       "\n",
       "    .dataframe thead th {\n",
       "        text-align: right;\n",
       "    }\n",
       "</style>\n",
       "<table border=\"1\" class=\"dataframe\">\n",
       "  <thead>\n",
       "    <tr style=\"text-align: right;\">\n",
       "      <th></th>\n",
       "      <th>age</th>\n",
       "      <th>city</th>\n",
       "    </tr>\n",
       "  </thead>\n",
       "  <tbody>\n",
       "    <tr>\n",
       "      <th>0</th>\n",
       "      <td>25</td>\n",
       "      <td>New York</td>\n",
       "    </tr>\n",
       "    <tr>\n",
       "      <th>1</th>\n",
       "      <td>30</td>\n",
       "      <td>San Francisco</td>\n",
       "    </tr>\n",
       "    <tr>\n",
       "      <th>2</th>\n",
       "      <td>35</td>\n",
       "      <td>Los Angeles</td>\n",
       "    </tr>\n",
       "    <tr>\n",
       "      <th>3</th>\n",
       "      <td>40</td>\n",
       "      <td>Chicago</td>\n",
       "    </tr>\n",
       "  </tbody>\n",
       "</table>\n",
       "</div>"
      ],
      "text/plain": [
       "   age           city\n",
       "0   25       New York\n",
       "1   30  San Francisco\n",
       "2   35    Los Angeles\n",
       "3   40        Chicago"
      ]
     },
     "execution_count": 53,
     "metadata": {},
     "output_type": "execute_result"
    }
   ],
   "source": [
    "df = pd.concat([s1, s2], axis=1)\n",
    "df"
   ]
  },
  {
   "cell_type": "code",
   "execution_count": 54,
   "id": "a631e7fd",
   "metadata": {},
   "outputs": [],
   "source": [
    "data = pd.DataFrame({\"age\" : [25, 30, 35, 40],\n",
    "                    \"city\" :['New York', 'San Francisco', 'Los Angeles', 'Chicago'] })"
   ]
  },
  {
   "cell_type": "code",
   "execution_count": 55,
   "id": "ca1df71a",
   "metadata": {},
   "outputs": [
    {
     "data": {
      "text/html": [
       "<div>\n",
       "<style scoped>\n",
       "    .dataframe tbody tr th:only-of-type {\n",
       "        vertical-align: middle;\n",
       "    }\n",
       "\n",
       "    .dataframe tbody tr th {\n",
       "        vertical-align: top;\n",
       "    }\n",
       "\n",
       "    .dataframe thead th {\n",
       "        text-align: right;\n",
       "    }\n",
       "</style>\n",
       "<table border=\"1\" class=\"dataframe\">\n",
       "  <thead>\n",
       "    <tr style=\"text-align: right;\">\n",
       "      <th></th>\n",
       "      <th>age</th>\n",
       "      <th>city</th>\n",
       "    </tr>\n",
       "  </thead>\n",
       "  <tbody>\n",
       "    <tr>\n",
       "      <th>0</th>\n",
       "      <td>25</td>\n",
       "      <td>New York</td>\n",
       "    </tr>\n",
       "    <tr>\n",
       "      <th>1</th>\n",
       "      <td>30</td>\n",
       "      <td>San Francisco</td>\n",
       "    </tr>\n",
       "    <tr>\n",
       "      <th>2</th>\n",
       "      <td>35</td>\n",
       "      <td>Los Angeles</td>\n",
       "    </tr>\n",
       "    <tr>\n",
       "      <th>3</th>\n",
       "      <td>40</td>\n",
       "      <td>Chicago</td>\n",
       "    </tr>\n",
       "  </tbody>\n",
       "</table>\n",
       "</div>"
      ],
      "text/plain": [
       "   age           city\n",
       "0   25       New York\n",
       "1   30  San Francisco\n",
       "2   35    Los Angeles\n",
       "3   40        Chicago"
      ]
     },
     "execution_count": 55,
     "metadata": {},
     "output_type": "execute_result"
    }
   ],
   "source": [
    "data"
   ]
  },
  {
   "cell_type": "markdown",
   "id": "735079e2",
   "metadata": {},
   "source": [
    "Reading data from external sources\n",
    "\n",
    "To read data from external sources, like a CSV file, you can use the pd.read_csv() function."
   ]
  },
  {
   "cell_type": "code",
   "execution_count": null,
   "id": "3c47ef0e",
   "metadata": {},
   "outputs": [],
   "source": [
    "import pandas as pd\n",
    "\n",
    "file_path = 'data/listings.csv'\n",
    "\n",
    "df = pd.read_csv(file_path)"
   ]
  },
  {
   "cell_type": "markdown",
   "id": "36731114",
   "metadata": {},
   "source": [
    " You can also read data from other formats like Excel, JSON, SQL, etc. by using appropriate Pandas functions such as \n",
    "\n",
    "pd.read_excel(),\n",
    "\n",
    "pd.read_json(), \n",
    " \n",
    "or pd.read_sql()."
   ]
  },
  {
   "cell_type": "markdown",
   "id": "2223270c",
   "metadata": {},
   "source": [
    "# Data Import and Export"
   ]
  },
  {
   "cell_type": "markdown",
   "id": "29779edc",
   "metadata": {},
   "source": [
    "Pandas provides several functions to read and write data from and to various file formats, making it easy to work with different data sources and formats.\n",
    "\n",
    "### Reading Data from Various File Formats"
   ]
  },
  {
   "cell_type": "markdown",
   "id": "06eb44e3",
   "metadata": {},
   "source": [
    "#### 1. CSV\n",
    "To read data from a CSV (Comma Separated Values) file, you can use the pd.read_csv() function."
   ]
  },
  {
   "cell_type": "code",
   "execution_count": 58,
   "id": "2df30c81",
   "metadata": {},
   "outputs": [
    {
     "data": {
      "text/html": [
       "<div>\n",
       "<style scoped>\n",
       "    .dataframe tbody tr th:only-of-type {\n",
       "        vertical-align: middle;\n",
       "    }\n",
       "\n",
       "    .dataframe tbody tr th {\n",
       "        vertical-align: top;\n",
       "    }\n",
       "\n",
       "    .dataframe thead th {\n",
       "        text-align: right;\n",
       "    }\n",
       "</style>\n",
       "<table border=\"1\" class=\"dataframe\">\n",
       "  <thead>\n",
       "    <tr style=\"text-align: right;\">\n",
       "      <th></th>\n",
       "      <th>id</th>\n",
       "      <th>name</th>\n",
       "      <th>host_id</th>\n",
       "      <th>host_name</th>\n",
       "      <th>neighbourhood_group</th>\n",
       "      <th>neighbourhood</th>\n",
       "      <th>latitude</th>\n",
       "      <th>longitude</th>\n",
       "      <th>room_type</th>\n",
       "      <th>price</th>\n",
       "      <th>minimum_nights</th>\n",
       "      <th>number_of_reviews</th>\n",
       "      <th>last_review</th>\n",
       "      <th>reviews_per_month</th>\n",
       "      <th>calculated_host_listings_count</th>\n",
       "      <th>availability_365</th>\n",
       "      <th>number_of_reviews_ltm</th>\n",
       "      <th>license</th>\n",
       "    </tr>\n",
       "  </thead>\n",
       "  <tbody>\n",
       "    <tr>\n",
       "      <th>0</th>\n",
       "      <td>2818</td>\n",
       "      <td>Quiet Garden View Room &amp; Super Fast Wi-Fi</td>\n",
       "      <td>3159</td>\n",
       "      <td>Daniel</td>\n",
       "      <td>NaN</td>\n",
       "      <td>Oostelijk Havengebied - Indische Buurt</td>\n",
       "      <td>52.364350</td>\n",
       "      <td>4.943580</td>\n",
       "      <td>Private room</td>\n",
       "      <td>69</td>\n",
       "      <td>3</td>\n",
       "      <td>322</td>\n",
       "      <td>2023-02-28</td>\n",
       "      <td>1.90</td>\n",
       "      <td>1</td>\n",
       "      <td>44</td>\n",
       "      <td>37</td>\n",
       "      <td>0363 5F3A 5684 6750 D14D</td>\n",
       "    </tr>\n",
       "    <tr>\n",
       "      <th>1</th>\n",
       "      <td>20168</td>\n",
       "      <td>Studio with private bathroom in the centre 1</td>\n",
       "      <td>59484</td>\n",
       "      <td>Alexander</td>\n",
       "      <td>NaN</td>\n",
       "      <td>Centrum-Oost</td>\n",
       "      <td>52.364070</td>\n",
       "      <td>4.893930</td>\n",
       "      <td>Private room</td>\n",
       "      <td>106</td>\n",
       "      <td>1</td>\n",
       "      <td>339</td>\n",
       "      <td>2020-04-09</td>\n",
       "      <td>2.14</td>\n",
       "      <td>2</td>\n",
       "      <td>0</td>\n",
       "      <td>0</td>\n",
       "      <td>0363 CBB3 2C10 0C2A 1E29</td>\n",
       "    </tr>\n",
       "    <tr>\n",
       "      <th>2</th>\n",
       "      <td>27886</td>\n",
       "      <td>Romantic, stylish B&amp;B houseboat in canal district</td>\n",
       "      <td>97647</td>\n",
       "      <td>Flip</td>\n",
       "      <td>NaN</td>\n",
       "      <td>Centrum-West</td>\n",
       "      <td>52.387610</td>\n",
       "      <td>4.891880</td>\n",
       "      <td>Private room</td>\n",
       "      <td>143</td>\n",
       "      <td>3</td>\n",
       "      <td>248</td>\n",
       "      <td>2023-02-26</td>\n",
       "      <td>1.82</td>\n",
       "      <td>1</td>\n",
       "      <td>14</td>\n",
       "      <td>20</td>\n",
       "      <td>0363 974D 4986 7411 88D8</td>\n",
       "    </tr>\n",
       "    <tr>\n",
       "      <th>3</th>\n",
       "      <td>28871</td>\n",
       "      <td>Comfortable double room</td>\n",
       "      <td>124245</td>\n",
       "      <td>Edwin</td>\n",
       "      <td>NaN</td>\n",
       "      <td>Centrum-West</td>\n",
       "      <td>52.367750</td>\n",
       "      <td>4.890920</td>\n",
       "      <td>Private room</td>\n",
       "      <td>76</td>\n",
       "      <td>2</td>\n",
       "      <td>476</td>\n",
       "      <td>2023-02-28</td>\n",
       "      <td>3.12</td>\n",
       "      <td>2</td>\n",
       "      <td>79</td>\n",
       "      <td>97</td>\n",
       "      <td>0363 607B EA74 0BD8 2F6F</td>\n",
       "    </tr>\n",
       "    <tr>\n",
       "      <th>4</th>\n",
       "      <td>29051</td>\n",
       "      <td>Comfortable single room</td>\n",
       "      <td>124245</td>\n",
       "      <td>Edwin</td>\n",
       "      <td>NaN</td>\n",
       "      <td>Centrum-Oost</td>\n",
       "      <td>52.365840</td>\n",
       "      <td>4.891110</td>\n",
       "      <td>Private room</td>\n",
       "      <td>56</td>\n",
       "      <td>2</td>\n",
       "      <td>618</td>\n",
       "      <td>2023-03-03</td>\n",
       "      <td>4.23</td>\n",
       "      <td>2</td>\n",
       "      <td>69</td>\n",
       "      <td>85</td>\n",
       "      <td>0363 607B EA74 0BD8 2F6F</td>\n",
       "    </tr>\n",
       "    <tr>\n",
       "      <th>...</th>\n",
       "      <td>...</td>\n",
       "      <td>...</td>\n",
       "      <td>...</td>\n",
       "      <td>...</td>\n",
       "      <td>...</td>\n",
       "      <td>...</td>\n",
       "      <td>...</td>\n",
       "      <td>...</td>\n",
       "      <td>...</td>\n",
       "      <td>...</td>\n",
       "      <td>...</td>\n",
       "      <td>...</td>\n",
       "      <td>...</td>\n",
       "      <td>...</td>\n",
       "      <td>...</td>\n",
       "      <td>...</td>\n",
       "      <td>...</td>\n",
       "      <td>...</td>\n",
       "    </tr>\n",
       "    <tr>\n",
       "      <th>6993</th>\n",
       "      <td>842462220391708128</td>\n",
       "      <td>Flat in the center of Amsterdam</td>\n",
       "      <td>47205615</td>\n",
       "      <td>Edgar</td>\n",
       "      <td>NaN</td>\n",
       "      <td>Centrum-Oost</td>\n",
       "      <td>52.359386</td>\n",
       "      <td>4.893717</td>\n",
       "      <td>Entire home/apt</td>\n",
       "      <td>450</td>\n",
       "      <td>1</td>\n",
       "      <td>0</td>\n",
       "      <td>NaN</td>\n",
       "      <td>NaN</td>\n",
       "      <td>1</td>\n",
       "      <td>70</td>\n",
       "      <td>0</td>\n",
       "      <td>0363 80A2 E913 8FAD A98A</td>\n",
       "    </tr>\n",
       "    <tr>\n",
       "      <th>6994</th>\n",
       "      <td>842493348876281257</td>\n",
       "      <td>3bed ark close to city centre</td>\n",
       "      <td>454835217</td>\n",
       "      <td>Barbara</td>\n",
       "      <td>NaN</td>\n",
       "      <td>Oud-Noord</td>\n",
       "      <td>52.401950</td>\n",
       "      <td>4.902256</td>\n",
       "      <td>Entire home/apt</td>\n",
       "      <td>360</td>\n",
       "      <td>2</td>\n",
       "      <td>0</td>\n",
       "      <td>NaN</td>\n",
       "      <td>NaN</td>\n",
       "      <td>1</td>\n",
       "      <td>357</td>\n",
       "      <td>0</td>\n",
       "      <td>0363 B755 6BD8 6F8D AA7F</td>\n",
       "    </tr>\n",
       "    <tr>\n",
       "      <th>6995</th>\n",
       "      <td>842634905680862660</td>\n",
       "      <td>ground floor studio 46m2 at boulevard &amp; canal</td>\n",
       "      <td>504448710</td>\n",
       "      <td>Ivanka</td>\n",
       "      <td>NaN</td>\n",
       "      <td>Oud-Noord</td>\n",
       "      <td>52.393502</td>\n",
       "      <td>4.899826</td>\n",
       "      <td>Entire home/apt</td>\n",
       "      <td>92</td>\n",
       "      <td>3</td>\n",
       "      <td>0</td>\n",
       "      <td>NaN</td>\n",
       "      <td>NaN</td>\n",
       "      <td>1</td>\n",
       "      <td>67</td>\n",
       "      <td>0</td>\n",
       "      <td>0363 76A0 B46B 281A C38E</td>\n",
       "    </tr>\n",
       "    <tr>\n",
       "      <th>6996</th>\n",
       "      <td>842713539293550316</td>\n",
       "      <td>Oasis in trendy Amsterdam East</td>\n",
       "      <td>17537276</td>\n",
       "      <td>Thomas</td>\n",
       "      <td>NaN</td>\n",
       "      <td>Watergraafsmeer</td>\n",
       "      <td>52.351350</td>\n",
       "      <td>4.920430</td>\n",
       "      <td>Entire home/apt</td>\n",
       "      <td>250</td>\n",
       "      <td>1</td>\n",
       "      <td>0</td>\n",
       "      <td>NaN</td>\n",
       "      <td>NaN</td>\n",
       "      <td>1</td>\n",
       "      <td>315</td>\n",
       "      <td>0</td>\n",
       "      <td>0363 97C2 71FF 5383 DC95</td>\n",
       "    </tr>\n",
       "    <tr>\n",
       "      <th>6997</th>\n",
       "      <td>842754604161195632</td>\n",
       "      <td>Penthouse Loft with a View</td>\n",
       "      <td>20336096</td>\n",
       "      <td>Sean</td>\n",
       "      <td>NaN</td>\n",
       "      <td>Oud-Noord</td>\n",
       "      <td>52.388888</td>\n",
       "      <td>4.922216</td>\n",
       "      <td>Entire home/apt</td>\n",
       "      <td>333</td>\n",
       "      <td>2</td>\n",
       "      <td>0</td>\n",
       "      <td>NaN</td>\n",
       "      <td>NaN</td>\n",
       "      <td>1</td>\n",
       "      <td>5</td>\n",
       "      <td>0</td>\n",
       "      <td>0363 A514 512A A671 03A3</td>\n",
       "    </tr>\n",
       "  </tbody>\n",
       "</table>\n",
       "<p>6998 rows × 18 columns</p>\n",
       "</div>"
      ],
      "text/plain": [
       "                      id                                               name  \\\n",
       "0                   2818          Quiet Garden View Room & Super Fast Wi-Fi   \n",
       "1                  20168       Studio with private bathroom in the centre 1   \n",
       "2                  27886  Romantic, stylish B&B houseboat in canal district   \n",
       "3                  28871                            Comfortable double room   \n",
       "4                  29051                            Comfortable single room   \n",
       "...                  ...                                                ...   \n",
       "6993  842462220391708128                    Flat in the center of Amsterdam   \n",
       "6994  842493348876281257                      3bed ark close to city centre   \n",
       "6995  842634905680862660      ground floor studio 46m2 at boulevard & canal   \n",
       "6996  842713539293550316                     Oasis in trendy Amsterdam East   \n",
       "6997  842754604161195632                         Penthouse Loft with a View   \n",
       "\n",
       "        host_id  host_name  neighbourhood_group  \\\n",
       "0          3159     Daniel                  NaN   \n",
       "1         59484  Alexander                  NaN   \n",
       "2         97647       Flip                  NaN   \n",
       "3        124245      Edwin                  NaN   \n",
       "4        124245      Edwin                  NaN   \n",
       "...         ...        ...                  ...   \n",
       "6993   47205615      Edgar                  NaN   \n",
       "6994  454835217    Barbara                  NaN   \n",
       "6995  504448710     Ivanka                  NaN   \n",
       "6996   17537276     Thomas                  NaN   \n",
       "6997   20336096       Sean                  NaN   \n",
       "\n",
       "                               neighbourhood   latitude  longitude  \\\n",
       "0     Oostelijk Havengebied - Indische Buurt  52.364350   4.943580   \n",
       "1                               Centrum-Oost  52.364070   4.893930   \n",
       "2                               Centrum-West  52.387610   4.891880   \n",
       "3                               Centrum-West  52.367750   4.890920   \n",
       "4                               Centrum-Oost  52.365840   4.891110   \n",
       "...                                      ...        ...        ...   \n",
       "6993                            Centrum-Oost  52.359386   4.893717   \n",
       "6994                               Oud-Noord  52.401950   4.902256   \n",
       "6995                               Oud-Noord  52.393502   4.899826   \n",
       "6996                         Watergraafsmeer  52.351350   4.920430   \n",
       "6997                               Oud-Noord  52.388888   4.922216   \n",
       "\n",
       "            room_type  price  minimum_nights  number_of_reviews last_review  \\\n",
       "0        Private room     69               3                322  2023-02-28   \n",
       "1        Private room    106               1                339  2020-04-09   \n",
       "2        Private room    143               3                248  2023-02-26   \n",
       "3        Private room     76               2                476  2023-02-28   \n",
       "4        Private room     56               2                618  2023-03-03   \n",
       "...               ...    ...             ...                ...         ...   \n",
       "6993  Entire home/apt    450               1                  0         NaN   \n",
       "6994  Entire home/apt    360               2                  0         NaN   \n",
       "6995  Entire home/apt     92               3                  0         NaN   \n",
       "6996  Entire home/apt    250               1                  0         NaN   \n",
       "6997  Entire home/apt    333               2                  0         NaN   \n",
       "\n",
       "      reviews_per_month  calculated_host_listings_count  availability_365  \\\n",
       "0                  1.90                               1                44   \n",
       "1                  2.14                               2                 0   \n",
       "2                  1.82                               1                14   \n",
       "3                  3.12                               2                79   \n",
       "4                  4.23                               2                69   \n",
       "...                 ...                             ...               ...   \n",
       "6993                NaN                               1                70   \n",
       "6994                NaN                               1               357   \n",
       "6995                NaN                               1                67   \n",
       "6996                NaN                               1               315   \n",
       "6997                NaN                               1                 5   \n",
       "\n",
       "      number_of_reviews_ltm                   license  \n",
       "0                        37  0363 5F3A 5684 6750 D14D  \n",
       "1                         0  0363 CBB3 2C10 0C2A 1E29  \n",
       "2                        20  0363 974D 4986 7411 88D8  \n",
       "3                        97  0363 607B EA74 0BD8 2F6F  \n",
       "4                        85  0363 607B EA74 0BD8 2F6F  \n",
       "...                     ...                       ...  \n",
       "6993                      0  0363 80A2 E913 8FAD A98A  \n",
       "6994                      0  0363 B755 6BD8 6F8D AA7F  \n",
       "6995                      0  0363 76A0 B46B 281A C38E  \n",
       "6996                      0  0363 97C2 71FF 5383 DC95  \n",
       "6997                      0  0363 A514 512A A671 03A3  \n",
       "\n",
       "[6998 rows x 18 columns]"
      ]
     },
     "execution_count": 58,
     "metadata": {},
     "output_type": "execute_result"
    }
   ],
   "source": [
    "import pandas as pd\n",
    "\n",
    "file_path = 'listings.csv'\n",
    "\n",
    "df = pd.read_csv(file_path)\n",
    "df"
   ]
  },
  {
   "cell_type": "markdown",
   "id": "16b018f3",
   "metadata": {},
   "source": [
    "#### 2. Excel\n",
    "To read data from an Excel file, you can use the pd.read_excel() function. You may need to install the openpyxl package to read Excel files."
   ]
  },
  {
   "cell_type": "code",
   "execution_count": 59,
   "id": "11d2855a",
   "metadata": {},
   "outputs": [
    {
     "data": {
      "text/html": [
       "<div>\n",
       "<style scoped>\n",
       "    .dataframe tbody tr th:only-of-type {\n",
       "        vertical-align: middle;\n",
       "    }\n",
       "\n",
       "    .dataframe tbody tr th {\n",
       "        vertical-align: top;\n",
       "    }\n",
       "\n",
       "    .dataframe thead th {\n",
       "        text-align: right;\n",
       "    }\n",
       "</style>\n",
       "<table border=\"1\" class=\"dataframe\">\n",
       "  <thead>\n",
       "    <tr style=\"text-align: right;\">\n",
       "      <th></th>\n",
       "      <th>name</th>\n",
       "      <th>age</th>\n",
       "      <th>city</th>\n",
       "    </tr>\n",
       "  </thead>\n",
       "  <tbody>\n",
       "    <tr>\n",
       "      <th>0</th>\n",
       "      <td>Alice</td>\n",
       "      <td>25</td>\n",
       "      <td>New York</td>\n",
       "    </tr>\n",
       "    <tr>\n",
       "      <th>1</th>\n",
       "      <td>Bob</td>\n",
       "      <td>30</td>\n",
       "      <td>San Francisco</td>\n",
       "    </tr>\n",
       "    <tr>\n",
       "      <th>2</th>\n",
       "      <td>Charlie</td>\n",
       "      <td>35</td>\n",
       "      <td>Los Angeles</td>\n",
       "    </tr>\n",
       "    <tr>\n",
       "      <th>3</th>\n",
       "      <td>David</td>\n",
       "      <td>40</td>\n",
       "      <td>Chicago</td>\n",
       "    </tr>\n",
       "  </tbody>\n",
       "</table>\n",
       "</div>"
      ],
      "text/plain": [
       "      name  age           city\n",
       "0    Alice   25       New York\n",
       "1      Bob   30  San Francisco\n",
       "2  Charlie   35    Los Angeles\n",
       "3    David   40        Chicago"
      ]
     },
     "execution_count": 59,
     "metadata": {},
     "output_type": "execute_result"
    }
   ],
   "source": [
    "import pandas as pd\n",
    "\n",
    "file_path = 'output_data.xlsx'\n",
    "\n",
    "df = pd.read_excel(file_path)\n",
    "df"
   ]
  },
  {
   "cell_type": "markdown",
   "id": "76a8fe46",
   "metadata": {},
   "source": [
    "#### 3. JSON\n",
    "To read data from a JSON (JavaScript Object Notation) file, you can use the pd.read_json() function."
   ]
  },
  {
   "cell_type": "code",
   "execution_count": 61,
   "id": "fdc0213d",
   "metadata": {},
   "outputs": [
    {
     "data": {
      "text/html": [
       "<div>\n",
       "<style scoped>\n",
       "    .dataframe tbody tr th:only-of-type {\n",
       "        vertical-align: middle;\n",
       "    }\n",
       "\n",
       "    .dataframe tbody tr th {\n",
       "        vertical-align: top;\n",
       "    }\n",
       "\n",
       "    .dataframe thead th {\n",
       "        text-align: right;\n",
       "    }\n",
       "</style>\n",
       "<table border=\"1\" class=\"dataframe\">\n",
       "  <thead>\n",
       "    <tr style=\"text-align: right;\">\n",
       "      <th></th>\n",
       "      <th>name</th>\n",
       "      <th>age</th>\n",
       "      <th>city</th>\n",
       "    </tr>\n",
       "  </thead>\n",
       "  <tbody>\n",
       "    <tr>\n",
       "      <th>0</th>\n",
       "      <td>Alice</td>\n",
       "      <td>25</td>\n",
       "      <td>New York</td>\n",
       "    </tr>\n",
       "    <tr>\n",
       "      <th>1</th>\n",
       "      <td>Bob</td>\n",
       "      <td>30</td>\n",
       "      <td>San Francisco</td>\n",
       "    </tr>\n",
       "    <tr>\n",
       "      <th>2</th>\n",
       "      <td>Charlie</td>\n",
       "      <td>35</td>\n",
       "      <td>Los Angeles</td>\n",
       "    </tr>\n",
       "    <tr>\n",
       "      <th>3</th>\n",
       "      <td>David</td>\n",
       "      <td>40</td>\n",
       "      <td>Chicago</td>\n",
       "    </tr>\n",
       "  </tbody>\n",
       "</table>\n",
       "</div>"
      ],
      "text/plain": [
       "      name  age           city\n",
       "0    Alice   25       New York\n",
       "1      Bob   30  San Francisco\n",
       "2  Charlie   35    Los Angeles\n",
       "3    David   40        Chicago"
      ]
     },
     "execution_count": 61,
     "metadata": {},
     "output_type": "execute_result"
    }
   ],
   "source": [
    "import pandas as pd\n",
    "\n",
    "file_path = 'output_data.json'\n",
    "\n",
    "df = pd.read_json(file_path)\n",
    "df"
   ]
  },
  {
   "cell_type": "markdown",
   "id": "117c7da9",
   "metadata": {},
   "source": [
    "#### 4. SQL\n",
    "To read data from an SQL database, you can use the pd.read_sql() or pd.read_sql_query() functions. \n",
    "\n",
    "First, you need to establish a connection to the database using an appropriate Python library such as sqlite3 for SQLite databases or pymysql for MySQL databases."
   ]
  },
  {
   "cell_type": "code",
   "execution_count": null,
   "id": "3d13577d",
   "metadata": {},
   "outputs": [],
   "source": [
    "import pandas as pd\n",
    "import sqlite3\n",
    "\n",
    "# Connect to the SQLite database\n",
    "conn = sqlite3.connect('example.db')\n",
    "\n",
    "# Read data from the database using an SQL query\n",
    "query = \"SELECT * FROM employees\"\n",
    "df = pd.read_sql_query(query, conn)\n",
    "print(df)\n",
    "\n",
    "# Close the connection\n",
    "conn.close()\n"
   ]
  },
  {
   "cell_type": "markdown",
   "id": "df5a1373",
   "metadata": {},
   "source": [
    "### Writing Data to Various File Formats\n",
    "\n",
    "\n",
    "#### 1. CSV\n",
    "To write data to a CSV file, you can use the to_csv() method of the DataFrame."
   ]
  },
  {
   "cell_type": "code",
   "execution_count": 63,
   "id": "c9b47159",
   "metadata": {},
   "outputs": [
    {
     "data": {
      "text/html": [
       "<div>\n",
       "<style scoped>\n",
       "    .dataframe tbody tr th:only-of-type {\n",
       "        vertical-align: middle;\n",
       "    }\n",
       "\n",
       "    .dataframe tbody tr th {\n",
       "        vertical-align: top;\n",
       "    }\n",
       "\n",
       "    .dataframe thead th {\n",
       "        text-align: right;\n",
       "    }\n",
       "</style>\n",
       "<table border=\"1\" class=\"dataframe\">\n",
       "  <thead>\n",
       "    <tr style=\"text-align: right;\">\n",
       "      <th></th>\n",
       "      <th>name</th>\n",
       "      <th>age</th>\n",
       "      <th>city</th>\n",
       "    </tr>\n",
       "  </thead>\n",
       "  <tbody>\n",
       "    <tr>\n",
       "      <th>0</th>\n",
       "      <td>Alice</td>\n",
       "      <td>25</td>\n",
       "      <td>New York</td>\n",
       "    </tr>\n",
       "    <tr>\n",
       "      <th>1</th>\n",
       "      <td>Bob</td>\n",
       "      <td>30</td>\n",
       "      <td>San Francisco</td>\n",
       "    </tr>\n",
       "    <tr>\n",
       "      <th>2</th>\n",
       "      <td>Charlie</td>\n",
       "      <td>35</td>\n",
       "      <td>Los Angeles</td>\n",
       "    </tr>\n",
       "    <tr>\n",
       "      <th>3</th>\n",
       "      <td>David</td>\n",
       "      <td>40</td>\n",
       "      <td>Chicago</td>\n",
       "    </tr>\n",
       "  </tbody>\n",
       "</table>\n",
       "</div>"
      ],
      "text/plain": [
       "      name  age           city\n",
       "0    Alice   25       New York\n",
       "1      Bob   30  San Francisco\n",
       "2  Charlie   35    Los Angeles\n",
       "3    David   40        Chicago"
      ]
     },
     "execution_count": 63,
     "metadata": {},
     "output_type": "execute_result"
    }
   ],
   "source": [
    "import pandas as pd\n",
    "\n",
    "data = {\n",
    "    'name': ['Alice', 'Bob', 'Charlie', 'David'],\n",
    "    'age': [25, 30, 35, 40],\n",
    "    'city': ['New York', 'San Francisco', 'Los Angeles', 'Chicago']\n",
    "}\n",
    "df = pd.DataFrame(data)\n",
    "df"
   ]
  },
  {
   "cell_type": "code",
   "execution_count": 65,
   "id": "bb4feb10-fd72-4019-891b-964a6fd891d7",
   "metadata": {},
   "outputs": [],
   "source": [
    "file_path = 'customers.csv'\n",
    "\n",
    "df.to_csv(file_path, index=False)\n"
   ]
  },
  {
   "cell_type": "markdown",
   "id": "596aef56",
   "metadata": {},
   "source": [
    "### 2. Excel\n",
    "To write data to an Excel file, you can use the to_excel() method of the DataFrame. You may need to install the openpyxl package to write Excel files."
   ]
  },
  {
   "cell_type": "code",
   "execution_count": 67,
   "id": "b1c7ea54",
   "metadata": {},
   "outputs": [],
   "source": [
    "import pandas as pd\n",
    "\n",
    "file_path = 'output_data.xlsx'\n",
    "df.to_excel(file_path, index=False, sheet_name='Sheet1')"
   ]
  },
  {
   "cell_type": "markdown",
   "id": "774e6413",
   "metadata": {},
   "source": [
    "#### 3. JSON\n",
    "To write data to a JSON file, you can use the to_json() method of the DataFrame."
   ]
  },
  {
   "cell_type": "code",
   "execution_count": 68,
   "id": "56ca30aa",
   "metadata": {},
   "outputs": [],
   "source": [
    "import pandas as pd\n",
    "\n",
    "file_path = 'output_data.json'\n",
    "df.to_json(file_path, orient='records')\n"
   ]
  },
  {
   "cell_type": "markdown",
   "id": "908116c8",
   "metadata": {},
   "source": [
    "#### 4. SQL\n",
    "To write data to an SQL database , you can use the to_sql() method of the DataFrame. \n",
    "\n",
    "First, you need to establish a connection to the database using an appropriate Python library such as sqlite3 for\n",
    "\n",
    "SQLite databases or \n",
    "\n",
    "pymysql for MySQL databases."
   ]
  },
  {
   "cell_type": "code",
   "execution_count": null,
   "id": "1a78dc5d",
   "metadata": {},
   "outputs": [],
   "source": [
    "import pandas as pd\n",
    "import sqlite3\n",
    "\n",
    "data = {\n",
    "    'name': ['Alice', 'Bob', 'Charlie', 'David'],\n",
    "    'age': [25, 30, 35, 40],\n",
    "    'city': ['New York', 'San Francisco', 'Los Angeles', 'Chicago']\n",
    "}\n",
    "df = pd.DataFrame(data)\n",
    "\n",
    "# Connect to the SQLite database\n",
    "conn = sqlite3.connect('example.db')\n",
    "\n",
    "# Write data to the database\n",
    "table_name = 'employees'\n",
    "df.to_sql(table_name, conn, if_exists='replace', index=False)\n",
    "\n",
    "# Close the connection\n",
    "conn.close()\n"
   ]
  },
  {
   "cell_type": "markdown",
   "id": "3c836f19",
   "metadata": {},
   "source": [
    "Here's an example with MySQL database using the pymysql library:\n",
    "\n"
   ]
  },
  {
   "cell_type": "code",
   "execution_count": null,
   "id": "1ae602b7",
   "metadata": {},
   "outputs": [],
   "source": [
    "import pandas as pd\n",
    "import pymysql\n",
    "from sqlalchemy import create_engine\n",
    "\n",
    "data = {\n",
    "    'name': ['Alice', 'Bob', 'Charlie', 'David'],\n",
    "    'age': [25, 30, 35, 40],\n",
    "    'city': ['New York', 'San Francisco', 'Los Angeles', 'Chicago']\n",
    "}\n",
    "df = pd.DataFrame(data)\n",
    "\n",
    "# Set up the database connection parameters\n",
    "user = 'username'\n",
    "password = 'password'\n",
    "host = 'localhost'\n",
    "database = 'my_database'\n",
    "\n",
    "# Connect to the MySQL database\n",
    "engine = create_engine(f\"mysql+pymysql://{user}:{password}@{host}/{database}\")\n",
    "\n",
    "# Write data to the database\n",
    "table_name = 'employees'\n",
    "df.to_sql(table_name, engine, if_exists='replace', index=False)\n",
    "\n",
    "# Close the connection\n",
    "engine.dispose()\n"
   ]
  },
  {
   "cell_type": "markdown",
   "id": "18634bd1",
   "metadata": {},
   "source": [
    "# Data Exploration and Analysis"
   ]
  },
  {
   "cell_type": "markdown",
   "id": "de41b2f0",
   "metadata": {},
   "source": [
    "Pandas provides numerous functions and methods to explore and analyze data, which are essential for understanding the dataset and making informed decisions."
   ]
  },
  {
   "cell_type": "markdown",
   "id": "2756e00d",
   "metadata": {},
   "source": [
    "### Head and Tail\n",
    "Pandas provides head() and tail() methods for quickly previewing the first and last rows of a DataFrame, respectively."
   ]
  },
  {
   "cell_type": "code",
   "execution_count": 70,
   "id": "806e91f6",
   "metadata": {
    "scrolled": true
   },
   "outputs": [
    {
     "data": {
      "text/html": [
       "<div>\n",
       "<style scoped>\n",
       "    .dataframe tbody tr th:only-of-type {\n",
       "        vertical-align: middle;\n",
       "    }\n",
       "\n",
       "    .dataframe tbody tr th {\n",
       "        vertical-align: top;\n",
       "    }\n",
       "\n",
       "    .dataframe thead th {\n",
       "        text-align: right;\n",
       "    }\n",
       "</style>\n",
       "<table border=\"1\" class=\"dataframe\">\n",
       "  <thead>\n",
       "    <tr style=\"text-align: right;\">\n",
       "      <th></th>\n",
       "      <th>name</th>\n",
       "      <th>age</th>\n",
       "      <th>city</th>\n",
       "    </tr>\n",
       "  </thead>\n",
       "  <tbody>\n",
       "    <tr>\n",
       "      <th>0</th>\n",
       "      <td>Alice</td>\n",
       "      <td>25</td>\n",
       "      <td>New York</td>\n",
       "    </tr>\n",
       "    <tr>\n",
       "      <th>1</th>\n",
       "      <td>Bob</td>\n",
       "      <td>30</td>\n",
       "      <td>San Francisco</td>\n",
       "    </tr>\n",
       "    <tr>\n",
       "      <th>2</th>\n",
       "      <td>Charlie</td>\n",
       "      <td>35</td>\n",
       "      <td>Los Angeles</td>\n",
       "    </tr>\n",
       "  </tbody>\n",
       "</table>\n",
       "</div>"
      ],
      "text/plain": [
       "      name  age           city\n",
       "0    Alice   25       New York\n",
       "1      Bob   30  San Francisco\n",
       "2  Charlie   35    Los Angeles"
      ]
     },
     "execution_count": 70,
     "metadata": {},
     "output_type": "execute_result"
    }
   ],
   "source": [
    "import pandas as pd\n",
    "\n",
    "data = {\n",
    "    'name': ['Alice', 'Bob', 'Charlie', 'David', 'Eva', 'Frank'],\n",
    "    'age': [25, 30, 35, 40, 45, 50],\n",
    "    'city': ['New York', 'San Francisco', 'Los Angeles', 'Chicago', 'Miami', 'Boston']\n",
    "}\n",
    "df = pd.DataFrame(data)\n",
    "\n",
    "# Display the first 3 rows\n",
    "df.head(3)"
   ]
  },
  {
   "cell_type": "code",
   "execution_count": 73,
   "id": "08eacc9c-876d-4446-a68e-88e1853c2c5c",
   "metadata": {},
   "outputs": [
    {
     "data": {
      "text/html": [
       "<div>\n",
       "<style scoped>\n",
       "    .dataframe tbody tr th:only-of-type {\n",
       "        vertical-align: middle;\n",
       "    }\n",
       "\n",
       "    .dataframe tbody tr th {\n",
       "        vertical-align: top;\n",
       "    }\n",
       "\n",
       "    .dataframe thead th {\n",
       "        text-align: right;\n",
       "    }\n",
       "</style>\n",
       "<table border=\"1\" class=\"dataframe\">\n",
       "  <thead>\n",
       "    <tr style=\"text-align: right;\">\n",
       "      <th></th>\n",
       "      <th>name</th>\n",
       "      <th>age</th>\n",
       "      <th>city</th>\n",
       "    </tr>\n",
       "  </thead>\n",
       "  <tbody>\n",
       "    <tr>\n",
       "      <th>4</th>\n",
       "      <td>Eva</td>\n",
       "      <td>45</td>\n",
       "      <td>Miami</td>\n",
       "    </tr>\n",
       "    <tr>\n",
       "      <th>5</th>\n",
       "      <td>Frank</td>\n",
       "      <td>50</td>\n",
       "      <td>Boston</td>\n",
       "    </tr>\n",
       "  </tbody>\n",
       "</table>\n",
       "</div>"
      ],
      "text/plain": [
       "    name  age    city\n",
       "4    Eva   45   Miami\n",
       "5  Frank   50  Boston"
      ]
     },
     "execution_count": 73,
     "metadata": {},
     "output_type": "execute_result"
    }
   ],
   "source": [
    "# Display the last 2 rows\n",
    "df.tail(2)"
   ]
  },
  {
   "cell_type": "markdown",
   "id": "90c2e024",
   "metadata": {},
   "source": [
    "### Indexing and Slicing Data\n",
    "\n",
    "Pandas provides several methods to index and slice data in a DataFrame, such as .loc[], .iloc[], and .at[].\n",
    "\n",
    "#### 1. Using .loc[ ]\n",
    "The .loc[] method allows you to index and slice data by label. You can select rows, columns, or both, using row and column labels."
   ]
  },
  {
   "cell_type": "code",
   "execution_count": 90,
   "id": "e00bded7",
   "metadata": {},
   "outputs": [
    {
     "name": "stdout",
     "output_type": "stream",
     "text": [
      "      name  age           city\n",
      "A    Alice   25       New York\n",
      "B      Bob   30  San Francisco\n",
      "C  Charlie   35    Los Angeles\n",
      "D    David   40        Chicago\n"
     ]
    }
   ],
   "source": [
    "import pandas as pd\n",
    "\n",
    "data = {\n",
    "    'name': ['Alice', 'Bob', 'Charlie', 'David'],\n",
    "    'age': [25, 30, 35, 40],\n",
    "    'city': ['New York', 'San Francisco', 'Los Angeles', 'Chicago']\n",
    "}\n",
    "df = pd.DataFrame(data, index=['A', 'B', 'C', 'D'])\n",
    "print(df)\n"
   ]
  },
  {
   "cell_type": "code",
   "execution_count": 75,
   "id": "cadb09da-4763-4c2c-83f0-e34af0f9cf67",
   "metadata": {},
   "outputs": [
    {
     "name": "stdout",
     "output_type": "stream",
     "text": [
      "name       Alice\n",
      "age           25\n",
      "city    New York\n",
      "Name: A, dtype: object\n"
     ]
    }
   ],
   "source": [
    "\n",
    "# Select a single row by index label\n",
    "print(df.loc['A'])\n"
   ]
  },
  {
   "cell_type": "code",
   "execution_count": 76,
   "id": "94ae09c7-54ad-4ed9-9eda-c749355b2d35",
   "metadata": {},
   "outputs": [
    {
     "name": "stdout",
     "output_type": "stream",
     "text": [
      "      name  age         city\n",
      "A    Alice   25     New York\n",
      "C  Charlie   35  Los Angeles\n"
     ]
    }
   ],
   "source": [
    "# Select multiple rows by index labels\n",
    "print(df.loc[['A', 'C']])"
   ]
  },
  {
   "cell_type": "code",
   "execution_count": 77,
   "id": "313b0906-876d-4fbc-9527-4341aa4a77eb",
   "metadata": {},
   "outputs": [
    {
     "name": "stdout",
     "output_type": "stream",
     "text": [
      "New York\n"
     ]
    }
   ],
   "source": [
    "# Select a single value using row and column labels \n",
    "\n",
    "print(df.loc['A', 'city'])"
   ]
  },
  {
   "cell_type": "code",
   "execution_count": 91,
   "id": "91732cf0-9510-4f0c-9d15-66af6c4c85d9",
   "metadata": {},
   "outputs": [
    {
     "name": "stdout",
     "output_type": "stream",
     "text": [
      "      name  age\n",
      "A    Alice   25\n",
      "B      Bob   30\n",
      "C  Charlie   35\n"
     ]
    }
   ],
   "source": [
    "# Slice rows and select specific columns\n",
    "\n",
    "print(df.loc['A':'C', ['name', 'age']])"
   ]
  },
  {
   "cell_type": "markdown",
   "id": "ac6612ad",
   "metadata": {},
   "source": [
    "#### 2. Using .iloc[]\n",
    "The .iloc[] method allows you to index and slice data by integer position. You can select rows, columns, or both, using row and column indices."
   ]
  },
  {
   "cell_type": "code",
   "execution_count": 79,
   "id": "59997433",
   "metadata": {
    "scrolled": true
   },
   "outputs": [
    {
     "name": "stdout",
     "output_type": "stream",
     "text": [
      "      name  age           city\n",
      "0    Alice   25       New York\n",
      "1      Bob   30  San Francisco\n",
      "2  Charlie   35    Los Angeles\n",
      "3    David   40        Chicago\n"
     ]
    }
   ],
   "source": [
    "import pandas as pd\n",
    "\n",
    "data = {\n",
    "    'name': ['Alice', 'Bob', 'Charlie', 'David'],\n",
    "    'age': [25, 30, 35, 40],\n",
    "    'city': ['New York', 'San Francisco', 'Los Angeles', 'Chicago']\n",
    "}\n",
    "df = pd.DataFrame(data)\n",
    "print(df)"
   ]
  },
  {
   "cell_type": "code",
   "execution_count": 80,
   "id": "17c2b15b-3a57-4c80-9d18-942437367407",
   "metadata": {},
   "outputs": [
    {
     "name": "stdout",
     "output_type": "stream",
     "text": [
      "name       Alice\n",
      "age           25\n",
      "city    New York\n",
      "Name: 0, dtype: object\n"
     ]
    }
   ],
   "source": [
    "# Select a single row by index position\n",
    "\n",
    "print(df.iloc[0])"
   ]
  },
  {
   "cell_type": "code",
   "execution_count": 82,
   "id": "7c4f9d50-12c6-46a0-8b9f-bab3e1d6a5c8",
   "metadata": {},
   "outputs": [
    {
     "name": "stdout",
     "output_type": "stream",
     "text": [
      "      name  age         city\n",
      "0    Alice   25     New York\n",
      "2  Charlie   35  Los Angeles\n"
     ]
    }
   ],
   "source": [
    "#select multiple rows by index positions\n",
    "print(df.iloc[[0, 2]])"
   ]
  },
  {
   "cell_type": "code",
   "execution_count": 83,
   "id": "37f85e09-64d5-47a7-9b08-e1544573d91f",
   "metadata": {},
   "outputs": [
    {
     "name": "stdout",
     "output_type": "stream",
     "text": [
      "New York\n"
     ]
    }
   ],
   "source": [
    "# Select a single value using row and column positions\n",
    "\n",
    "print(df.iloc[0, 2])"
   ]
  },
  {
   "cell_type": "code",
   "execution_count": 86,
   "id": "b0e79ba9-a10c-4903-a6df-e2f692e5b040",
   "metadata": {},
   "outputs": [
    {
     "name": "stdout",
     "output_type": "stream",
     "text": [
      "0      Alice\n",
      "1        Bob\n",
      "2    Charlie\n",
      "3      David\n",
      "Name: name, dtype: object\n"
     ]
    }
   ],
   "source": [
    "# Slice rows and select specific columns\n",
    "print(df.iloc[0:3, 0:2])"
   ]
  },
  {
   "cell_type": "markdown",
   "id": "b6887864",
   "metadata": {},
   "source": [
    "#### 3. Using .at[]\n",
    "The .at[] method allows you to access a single value in a DataFrame by row and column labels."
   ]
  },
  {
   "cell_type": "code",
   "execution_count": 97,
   "id": "a39f245c",
   "metadata": {},
   "outputs": [
    {
     "name": "stdout",
     "output_type": "stream",
     "text": [
      "New York\n"
     ]
    }
   ],
   "source": [
    "import pandas as pd\n",
    "\n",
    "data = {\n",
    "    'name': ['Alice', 'Bob', 'Charlie', 'David'],\n",
    "    'age': [25, 30, 35, 40],\n",
    "    'city': ['New York', 'San Francisco', 'Los Angeles', 'Chicago']\n",
    "}\n",
    "df = pd.DataFrame(data, index=['A', 'B', 'C', 'D'])\n",
    "\n",
    "# Access a single value using row and column labels\n",
    "print(df.at['A', 'city'])\n"
   ]
  },
  {
   "cell_type": "markdown",
   "id": "a4e2e775",
   "metadata": {},
   "source": [
    "### Descriptive Statistics\n",
    "Pandas provides several methods to compute descriptive statistics of a DataFrame, such as describe(), mean(), median(), min(), max(), std(), sum(), and count()."
   ]
  },
  {
   "cell_type": "code",
   "execution_count": 98,
   "id": "3d6f0d56",
   "metadata": {},
   "outputs": [
    {
     "name": "stdout",
     "output_type": "stream",
     "text": [
      "   age  income\n",
      "0   25   50000\n",
      "1   30   55000\n",
      "2   35   60000\n",
      "3   40   65000\n"
     ]
    }
   ],
   "source": [
    "import pandas as pd\n",
    "\n",
    "data = {\n",
    "    'age': [25, 30, 35, 40],\n",
    "    'income': [50000, 55000, 60000, 65000]\n",
    "}\n",
    "df = pd.DataFrame(data)\n",
    "print(df)\n"
   ]
  },
  {
   "cell_type": "code",
   "execution_count": 99,
   "id": "5ad8e2e7-695f-4416-b31f-403c2097eb3b",
   "metadata": {},
   "outputs": [
    {
     "name": "stdout",
     "output_type": "stream",
     "text": [
      "MEAN:\n",
      "age          32.5\n",
      "income    57500.0\n",
      "dtype: float64\n"
     ]
    }
   ],
   "source": [
    "# Compute the mean\n",
    "\n",
    "print(\"MEAN:\")\n",
    "\n",
    "print(df.mean())"
   ]
  },
  {
   "cell_type": "code",
   "execution_count": 100,
   "id": "2b531ac7-c1dd-4fb6-8b72-1c7038474558",
   "metadata": {
    "scrolled": true
   },
   "outputs": [
    {
     "name": "stdout",
     "output_type": "stream",
     "text": [
      "MEDIAN:\n",
      "age          32.5\n",
      "income    57500.0\n",
      "dtype: float64\n"
     ]
    }
   ],
   "source": [
    "#Compute the median\n",
    "print(\"MEDIAN:\")\n",
    "print(df.median())"
   ]
  },
  {
   "cell_type": "code",
   "execution_count": 102,
   "id": "0aac03c0-5946-497e-8d9a-e0e70003c3ca",
   "metadata": {
    "scrolled": true
   },
   "outputs": [
    {
     "name": "stdout",
     "output_type": "stream",
     "text": [
      "MIN:\n",
      "age          25\n",
      "income    50000\n",
      "dtype: int64\n",
      "\n",
      "\n",
      "MAX:\n",
      "age          40\n",
      "income    65000\n",
      "dtype: int64\n"
     ]
    }
   ],
   "source": [
    "# Find the minimum and maximum values\n",
    "print(\"MIN:\")\n",
    "print(df.min())\n",
    "print(\"\\n\")\n",
    "print(\"MAX:\")\n",
    "print(df.max())"
   ]
  },
  {
   "cell_type": "code",
   "execution_count": 103,
   "id": "e5d9af57-4cd3-4956-b605-d2a02b35c9f9",
   "metadata": {
    "scrolled": true
   },
   "outputs": [
    {
     "name": "stdout",
     "output_type": "stream",
     "text": [
      "STD:\n",
      "age          6.454972\n",
      "income    6454.972244\n",
      "dtype: float64\n"
     ]
    }
   ],
   "source": [
    "# Compute the standard deviation\n",
    "print(\"STD:\")\n",
    "print(df.std())"
   ]
  },
  {
   "cell_type": "code",
   "execution_count": 105,
   "id": "1f3b8e94-8b48-4523-9bf4-68c082261fdf",
   "metadata": {},
   "outputs": [
    {
     "name": "stdout",
     "output_type": "stream",
     "text": [
      "SUM:\n",
      "age          130\n",
      "income    230000\n",
      "dtype: int64\n",
      "\n",
      "\n",
      "COUNT:\n",
      "age       4\n",
      "income    4\n",
      "dtype: int64\n"
     ]
    }
   ],
   "source": [
    "# Calculate the sum and count\n",
    "print(\"SUM:\")\n",
    "print(df.sum())\n",
    "print(\"\\n\")\n",
    "print(\"COUNT:\")\n",
    "print(df.count())\n"
   ]
  },
  {
   "cell_type": "code",
   "execution_count": 106,
   "id": "2b5725a7-daa6-4bd3-a604-a8d1d417f88f",
   "metadata": {},
   "outputs": [
    {
     "name": "stdout",
     "output_type": "stream",
     "text": [
      "STATISTICAL SUMMARY\n",
      "             age        income\n",
      "count   4.000000      4.000000\n",
      "mean   32.500000  57500.000000\n",
      "std     6.454972   6454.972244\n",
      "min    25.000000  50000.000000\n",
      "25%    28.750000  53750.000000\n",
      "50%    32.500000  57500.000000\n",
      "75%    36.250000  61250.000000\n",
      "max    40.000000  65000.000000\n"
     ]
    }
   ],
   "source": [
    "# Generate summary statistics\n",
    "print(\"STATISTICAL SUMMARY\")\n",
    "print(df.describe())"
   ]
  },
  {
   "cell_type": "markdown",
   "id": "8d271d34",
   "metadata": {},
   "source": [
    "### Sorting Data\n",
    "\n",
    "To sort a DataFrame by the values in one or more columns, you can use the sort_values() method."
   ]
  },
  {
   "cell_type": "code",
   "execution_count": 108,
   "id": "fd963289",
   "metadata": {},
   "outputs": [
    {
     "data": {
      "text/html": [
       "<div>\n",
       "<style scoped>\n",
       "    .dataframe tbody tr th:only-of-type {\n",
       "        vertical-align: middle;\n",
       "    }\n",
       "\n",
       "    .dataframe tbody tr th {\n",
       "        vertical-align: top;\n",
       "    }\n",
       "\n",
       "    .dataframe thead th {\n",
       "        text-align: right;\n",
       "    }\n",
       "</style>\n",
       "<table border=\"1\" class=\"dataframe\">\n",
       "  <thead>\n",
       "    <tr style=\"text-align: right;\">\n",
       "      <th></th>\n",
       "      <th>name</th>\n",
       "      <th>age</th>\n",
       "      <th>city</th>\n",
       "    </tr>\n",
       "  </thead>\n",
       "  <tbody>\n",
       "    <tr>\n",
       "      <th>3</th>\n",
       "      <td>David</td>\n",
       "      <td>40</td>\n",
       "      <td>Chicago</td>\n",
       "    </tr>\n",
       "    <tr>\n",
       "      <th>2</th>\n",
       "      <td>Charlie</td>\n",
       "      <td>35</td>\n",
       "      <td>Los Angeles</td>\n",
       "    </tr>\n",
       "    <tr>\n",
       "      <th>0</th>\n",
       "      <td>Alice</td>\n",
       "      <td>25</td>\n",
       "      <td>New York</td>\n",
       "    </tr>\n",
       "    <tr>\n",
       "      <th>1</th>\n",
       "      <td>Bob</td>\n",
       "      <td>30</td>\n",
       "      <td>San Francisco</td>\n",
       "    </tr>\n",
       "  </tbody>\n",
       "</table>\n",
       "</div>"
      ],
      "text/plain": [
       "      name  age           city\n",
       "3    David   40        Chicago\n",
       "2  Charlie   35    Los Angeles\n",
       "0    Alice   25       New York\n",
       "1      Bob   30  San Francisco"
      ]
     },
     "execution_count": 108,
     "metadata": {},
     "output_type": "execute_result"
    }
   ],
   "source": [
    "import pandas as pd\n",
    "\n",
    "data = {\n",
    "    'name': ['Alice', 'Bob', 'Charlie', 'David'],\n",
    "    'age': [25, 30, 35, 40],\n",
    "    'city': ['New York', 'San Francisco', 'Los Angeles', 'Chicago']\n",
    "}\n",
    "df = pd.DataFrame(data)\n",
    "\n",
    "# Sort the DataFrame by the 'city' column in ascending order\n",
    "sorted_df = df.sort_values('city')\n",
    "sorted_df"
   ]
  },
  {
   "cell_type": "code",
   "execution_count": 109,
   "id": "7840d3bd-8587-44d8-863f-83aaebb9dacd",
   "metadata": {},
   "outputs": [
    {
     "name": "stdout",
     "output_type": "stream",
     "text": [
      "      name  age           city\n",
      "1      Bob   30  San Francisco\n",
      "0    Alice   25       New York\n",
      "2  Charlie   35    Los Angeles\n",
      "3    David   40        Chicago\n"
     ]
    }
   ],
   "source": [
    "#sort the DataFrame by the 'city' column in descending order\n",
    "sorted_df = df.sort_values('city', ascending=False)\n",
    "print(sorted_df)"
   ]
  },
  {
   "cell_type": "markdown",
   "id": "89a27d24",
   "metadata": {},
   "source": [
    "### Filtering Data\n",
    "You can filter data in a DataFrame by applying conditions to one or more columns. The result will be a new DataFrame with only the rows that meet the specified conditions"
   ]
  },
  {
   "cell_type": "code",
   "execution_count": 111,
   "id": "7f7ebaa9",
   "metadata": {},
   "outputs": [
    {
     "name": "stdout",
     "output_type": "stream",
     "text": [
      "      name  age         city\n",
      "2  Charlie   35  Los Angeles\n",
      "3    David   40      Chicago\n"
     ]
    }
   ],
   "source": [
    "import pandas as pd\n",
    "\n",
    "data = {\n",
    "    'name': ['Alice', 'Bob', 'Charlie', 'David'],\n",
    "    'age': [25, 30, 35, 40],\n",
    "    'city': ['New York', 'San Francisco', 'Los Angeles', 'Chicago']\n",
    "}\n",
    "df = pd.DataFrame(data)\n",
    "\n",
    "# Filter rows where the 'age' is greater than 30\n",
    "filtered_df = df[df['age'] > 30]\n",
    "print(filtered_df)"
   ]
  },
  {
   "cell_type": "code",
   "execution_count": 112,
   "id": "b39ca90e-2cc1-4d0f-8ab8-af1d1518022a",
   "metadata": {},
   "outputs": [
    {
     "name": "stdout",
     "output_type": "stream",
     "text": [
      "      name  age         city\n",
      "0    Alice   25     New York\n",
      "2  Charlie   35  Los Angeles\n"
     ]
    }
   ],
   "source": [
    "# Filter rows where the 'city' is 'New York' or 'Los Angeles'\n",
    "filtered_df = df[df['city'].isin(['New York', 'Los Angeles'])]\n",
    "print(filtered_df)"
   ]
  },
  {
   "cell_type": "markdown",
   "id": "485ebdd5",
   "metadata": {},
   "source": [
    "### Grouping and Aggregating Data\n",
    "To group and aggregate data in a DataFrame, you can use the groupby() method followed by an aggregation function such as sum(), mean(), count(), or max()."
   ]
  },
  {
   "cell_type": "code",
   "execution_count": 113,
   "id": "0c4afa85",
   "metadata": {},
   "outputs": [
    {
     "data": {
      "text/html": [
       "<div>\n",
       "<style scoped>\n",
       "    .dataframe tbody tr th:only-of-type {\n",
       "        vertical-align: middle;\n",
       "    }\n",
       "\n",
       "    .dataframe tbody tr th {\n",
       "        vertical-align: top;\n",
       "    }\n",
       "\n",
       "    .dataframe thead th {\n",
       "        text-align: right;\n",
       "    }\n",
       "</style>\n",
       "<table border=\"1\" class=\"dataframe\">\n",
       "  <thead>\n",
       "    <tr style=\"text-align: right;\">\n",
       "      <th></th>\n",
       "      <th>department</th>\n",
       "      <th>employee</th>\n",
       "      <th>salary</th>\n",
       "    </tr>\n",
       "  </thead>\n",
       "  <tbody>\n",
       "    <tr>\n",
       "      <th>0</th>\n",
       "      <td>HR</td>\n",
       "      <td>Alice</td>\n",
       "      <td>50000</td>\n",
       "    </tr>\n",
       "    <tr>\n",
       "      <th>1</th>\n",
       "      <td>HR</td>\n",
       "      <td>Bob</td>\n",
       "      <td>55000</td>\n",
       "    </tr>\n",
       "    <tr>\n",
       "      <th>2</th>\n",
       "      <td>IT</td>\n",
       "      <td>Charlie</td>\n",
       "      <td>60000</td>\n",
       "    </tr>\n",
       "    <tr>\n",
       "      <th>3</th>\n",
       "      <td>IT</td>\n",
       "      <td>David</td>\n",
       "      <td>62000</td>\n",
       "    </tr>\n",
       "    <tr>\n",
       "      <th>4</th>\n",
       "      <td>Sales</td>\n",
       "      <td>Eva</td>\n",
       "      <td>70000</td>\n",
       "    </tr>\n",
       "    <tr>\n",
       "      <th>5</th>\n",
       "      <td>Sales</td>\n",
       "      <td>Frank</td>\n",
       "      <td>72000</td>\n",
       "    </tr>\n",
       "  </tbody>\n",
       "</table>\n",
       "</div>"
      ],
      "text/plain": [
       "  department employee  salary\n",
       "0         HR    Alice   50000\n",
       "1         HR      Bob   55000\n",
       "2         IT  Charlie   60000\n",
       "3         IT    David   62000\n",
       "4      Sales      Eva   70000\n",
       "5      Sales    Frank   72000"
      ]
     },
     "execution_count": 113,
     "metadata": {},
     "output_type": "execute_result"
    }
   ],
   "source": [
    "data = {\n",
    "    'department': ['HR', 'HR', 'IT', 'IT', 'Sales', 'Sales'],\n",
    "    'employee': ['Alice', 'Bob', 'Charlie', 'David', 'Eva', 'Frank'],\n",
    "    'salary': [50000, 55000, 60000, 62000, 70000, 72000]\n",
    "}\n",
    "df = pd.DataFrame(data)\n",
    "df"
   ]
  },
  {
   "cell_type": "code",
   "execution_count": 114,
   "id": "c82595cb",
   "metadata": {
    "scrolled": true
   },
   "outputs": [
    {
     "name": "stdout",
     "output_type": "stream",
     "text": [
      "department\n",
      "HR       55000\n",
      "IT       62000\n",
      "Sales    72000\n",
      "Name: salary, dtype: int64\n"
     ]
    }
   ],
   "source": [
    "# Group by the 'department' column and compute the total salary\n",
    "grouped_df = df.groupby('department')['salary'].max()\n",
    "print(grouped_df)"
   ]
  },
  {
   "cell_type": "code",
   "execution_count": 116,
   "id": "918fe15e-0efd-499c-84ac-bde6d73f8186",
   "metadata": {
    "scrolled": true
   },
   "outputs": [
    {
     "data": {
      "text/plain": [
       "department\n",
       "HR       52500.0\n",
       "IT       61000.0\n",
       "Sales    71000.0\n",
       "Name: salary, dtype: float64"
      ]
     },
     "execution_count": 116,
     "metadata": {},
     "output_type": "execute_result"
    }
   ],
   "source": [
    "# Group by the 'department' column and compute the average salary\n",
    "grouped_df = df.groupby('department')['salary'].mean()\n",
    "grouped_df"
   ]
  },
  {
   "cell_type": "code",
   "execution_count": 117,
   "id": "a562e5c4-0b76-491a-a427-22a1e62ea7a7",
   "metadata": {},
   "outputs": [
    {
     "name": "stdout",
     "output_type": "stream",
     "text": [
      "department\n",
      "HR       2\n",
      "IT       2\n",
      "Sales    2\n",
      "Name: employee, dtype: int64\n"
     ]
    }
   ],
   "source": [
    "# Group by the 'department' column and count the number of employees\n",
    "grouped_df = df.groupby('department')['employee'].count()\n",
    "print(grouped_df)"
   ]
  },
  {
   "cell_type": "markdown",
   "id": "87318aea",
   "metadata": {},
   "source": [
    "## Data Manipulation\n",
    "\n",
    "Pandas provides numerous functions and methods for manipulating data in a DataFrame. These tools help in cleaning, reorganizing, and transforming the dataset to facilitate analysis and visualization.\n",
    "\n",
    "### Renaming Columns and Indexes\n",
    "\n",
    "You can rename columns and indexes in a DataFrame using the rename() method."
   ]
  },
  {
   "cell_type": "code",
   "execution_count": 119,
   "id": "2fccd7a0",
   "metadata": {},
   "outputs": [
    {
     "name": "stdout",
     "output_type": "stream",
     "text": [
      "   Col_A  Col_B  Col_C\n",
      "X      1      4      7\n",
      "Y      2      5      8\n",
      "Z      3      6      9\n"
     ]
    }
   ],
   "source": [
    "import pandas as pd\n",
    "\n",
    "data = {\n",
    "    'A': [1, 2, 3],\n",
    "    'B': [4, 5, 6],\n",
    "    'C': [7, 8, 9]\n",
    "}\n",
    "df = pd.DataFrame(data, index=['X', 'Y', 'Z'])\n",
    "\n",
    "# Rename columns\n",
    "df = df.rename(columns={'A': 'Col_A', 'B': 'Col_B', 'C': 'Col_C'})\n",
    "print(df)"
   ]
  },
  {
   "cell_type": "code",
   "execution_count": 120,
   "id": "be54b895-420b-439f-9d66-7009ca75d30a",
   "metadata": {},
   "outputs": [
    {
     "name": "stdout",
     "output_type": "stream",
     "text": [
      "       Col_A  Col_B  Col_C\n",
      "Row_X      1      4      7\n",
      "Row_Y      2      5      8\n",
      "Row_Z      3      6      9\n"
     ]
    }
   ],
   "source": [
    "# Rename indexes\n",
    "df = df.rename(index={'X': 'Row_X', 'Y': 'Row_Y', 'Z': 'Row_Z'})\n",
    "print(df)"
   ]
  },
  {
   "cell_type": "markdown",
   "id": "35d5c6f2",
   "metadata": {},
   "source": [
    "### Handling Missing Data\n",
    "\n",
    "Pandas provides several methods for handling missing data in a DataFrame, such as dropna(), fillna(), and interpolate()."
   ]
  },
  {
   "cell_type": "code",
   "execution_count": 121,
   "id": "1143d58c",
   "metadata": {},
   "outputs": [
    {
     "name": "stdout",
     "output_type": "stream",
     "text": [
      "     A    B  C\n",
      "0  1.0  4.0  7\n",
      "1  NaN  5.0  8\n",
      "2  3.0  NaN  9\n"
     ]
    }
   ],
   "source": [
    "import pandas as pd\n",
    "import numpy as np\n",
    "\n",
    "data = {\n",
    "    'A': [1, np.nan, 3],\n",
    "    'B': [4, 5, np.nan],\n",
    "    'C': [7, 8, 9]\n",
    "}\n",
    "df = pd.DataFrame(data)\n",
    "print(df)\n"
   ]
  },
  {
   "cell_type": "code",
   "execution_count": 122,
   "id": "b8df3219-f354-4476-8f79-cb5f96ba2131",
   "metadata": {},
   "outputs": [
    {
     "name": "stdout",
     "output_type": "stream",
     "text": [
      "     A    B  C\n",
      "0  1.0  4.0  7\n"
     ]
    }
   ],
   "source": [
    "# Drop rows with missing values\n",
    "df_no_na = df.dropna()\n",
    "print(df_no_na)"
   ]
  },
  {
   "cell_type": "code",
   "execution_count": 123,
   "id": "b56d06ae-a052-4239-b07d-025987b3cf77",
   "metadata": {},
   "outputs": [
    {
     "name": "stdout",
     "output_type": "stream",
     "text": [
      "     A    B  C\n",
      "0  1.0  4.0  7\n",
      "1  0.0  5.0  8\n",
      "2  3.0  0.0  9\n"
     ]
    }
   ],
   "source": [
    "# # Fill missing values with a specified value\n",
    "df_filled = df.fillna(0)\n",
    "print(df_filled)"
   ]
  },
  {
   "cell_type": "markdown",
   "id": "19356802",
   "metadata": {},
   "source": [
    "### Merging, Joining, and Concatenating DataFrames\n",
    "\n",
    "Pandas provides several methods to combine DataFrames, such as concat(), merge(), and join().\n",
    "\n",
    "#### Concatenating DataFrames\n",
    "To concatenate DataFrames, you can use the pd.concat() function. This function stacks DataFrames on top of each other (vertically) or side by side (horizontally)."
   ]
  },
  {
   "cell_type": "code",
   "execution_count": 152,
   "id": "9512be09",
   "metadata": {},
   "outputs": [
    {
     "data": {
      "text/plain": [
       "{'A': [1, 2, 3], 'B': [4, 5, 6]}"
      ]
     },
     "execution_count": 152,
     "metadata": {},
     "output_type": "execute_result"
    }
   ],
   "source": [
    "import pandas as pd\n",
    "\n",
    "data1 = {\n",
    "    'A': [1, 2, 3],\n",
    "    'B': [4, 5, 6]\n",
    "}\n",
    "data1"
   ]
  },
  {
   "cell_type": "code",
   "execution_count": 153,
   "id": "bf5059e2-83e5-4fb9-ac01-476a60b8ad58",
   "metadata": {},
   "outputs": [
    {
     "data": {
      "text/plain": [
       "{'A': [7, 8, 9], 'B': [10, 11, 12]}"
      ]
     },
     "execution_count": 153,
     "metadata": {},
     "output_type": "execute_result"
    }
   ],
   "source": [
    "\n",
    "data2 = {\n",
    "    'A': [7, 8, 9],\n",
    "    'B': [10, 11, 12]\n",
    "}\n",
    "data2"
   ]
  },
  {
   "cell_type": "code",
   "execution_count": 154,
   "id": "ca54e9d3-7a96-4c88-959c-3f665db4c22a",
   "metadata": {},
   "outputs": [
    {
     "data": {
      "text/html": [
       "<div>\n",
       "<style scoped>\n",
       "    .dataframe tbody tr th:only-of-type {\n",
       "        vertical-align: middle;\n",
       "    }\n",
       "\n",
       "    .dataframe tbody tr th {\n",
       "        vertical-align: top;\n",
       "    }\n",
       "\n",
       "    .dataframe thead th {\n",
       "        text-align: right;\n",
       "    }\n",
       "</style>\n",
       "<table border=\"1\" class=\"dataframe\">\n",
       "  <thead>\n",
       "    <tr style=\"text-align: right;\">\n",
       "      <th></th>\n",
       "      <th>A</th>\n",
       "      <th>B</th>\n",
       "    </tr>\n",
       "  </thead>\n",
       "  <tbody>\n",
       "    <tr>\n",
       "      <th>0</th>\n",
       "      <td>1</td>\n",
       "      <td>4</td>\n",
       "    </tr>\n",
       "    <tr>\n",
       "      <th>1</th>\n",
       "      <td>2</td>\n",
       "      <td>5</td>\n",
       "    </tr>\n",
       "    <tr>\n",
       "      <th>2</th>\n",
       "      <td>3</td>\n",
       "      <td>6</td>\n",
       "    </tr>\n",
       "  </tbody>\n",
       "</table>\n",
       "</div>"
      ],
      "text/plain": [
       "   A  B\n",
       "0  1  4\n",
       "1  2  5\n",
       "2  3  6"
      ]
     },
     "execution_count": 154,
     "metadata": {},
     "output_type": "execute_result"
    }
   ],
   "source": [
    "df1 = pd.DataFrame(data1)\n",
    "df1"
   ]
  },
  {
   "cell_type": "code",
   "execution_count": 155,
   "id": "416201e4-74ce-4c58-b731-794c7ada62d2",
   "metadata": {
    "scrolled": true
   },
   "outputs": [
    {
     "data": {
      "text/html": [
       "<div>\n",
       "<style scoped>\n",
       "    .dataframe tbody tr th:only-of-type {\n",
       "        vertical-align: middle;\n",
       "    }\n",
       "\n",
       "    .dataframe tbody tr th {\n",
       "        vertical-align: top;\n",
       "    }\n",
       "\n",
       "    .dataframe thead th {\n",
       "        text-align: right;\n",
       "    }\n",
       "</style>\n",
       "<table border=\"1\" class=\"dataframe\">\n",
       "  <thead>\n",
       "    <tr style=\"text-align: right;\">\n",
       "      <th></th>\n",
       "      <th>A</th>\n",
       "      <th>B</th>\n",
       "    </tr>\n",
       "  </thead>\n",
       "  <tbody>\n",
       "    <tr>\n",
       "      <th>0</th>\n",
       "      <td>7</td>\n",
       "      <td>10</td>\n",
       "    </tr>\n",
       "    <tr>\n",
       "      <th>1</th>\n",
       "      <td>8</td>\n",
       "      <td>11</td>\n",
       "    </tr>\n",
       "    <tr>\n",
       "      <th>2</th>\n",
       "      <td>9</td>\n",
       "      <td>12</td>\n",
       "    </tr>\n",
       "  </tbody>\n",
       "</table>\n",
       "</div>"
      ],
      "text/plain": [
       "   A   B\n",
       "0  7  10\n",
       "1  8  11\n",
       "2  9  12"
      ]
     },
     "execution_count": 155,
     "metadata": {},
     "output_type": "execute_result"
    }
   ],
   "source": [
    "df2 = pd.DataFrame(data2)\n",
    "df2"
   ]
  },
  {
   "cell_type": "code",
   "execution_count": 129,
   "id": "9a4e24f9-add4-4f08-ab6a-8093d0f34469",
   "metadata": {},
   "outputs": [
    {
     "name": "stdout",
     "output_type": "stream",
     "text": [
      "   A   B\n",
      "0  1   4\n",
      "1  2   5\n",
      "2  3   6\n",
      "3  7  10\n",
      "4  8  11\n",
      "5  9  12\n"
     ]
    }
   ],
   "source": [
    "\n",
    "# Concatenate DataFrames vertically (default)\n",
    "df_vertical = pd.concat([df1, df2], ignore_index=True)\n",
    "print(df_vertical)"
   ]
  },
  {
   "cell_type": "code",
   "execution_count": 130,
   "id": "929e9ecd-db15-41d4-9d24-76c2bbe6c57a",
   "metadata": {},
   "outputs": [
    {
     "name": "stdout",
     "output_type": "stream",
     "text": [
      "   A  B  A   B\n",
      "0  1  4  7  10\n",
      "1  2  5  8  11\n",
      "2  3  6  9  12\n"
     ]
    }
   ],
   "source": [
    "# Concatenate DataFrames horizontally\n",
    "df_horizontal = pd.concat([df1, df2], axis=1)\n",
    "print(df_horizontal)"
   ]
  },
  {
   "cell_type": "markdown",
   "id": "863a0813",
   "metadata": {},
   "source": [
    "#### Merging DataFrames\n",
    "To merge DataFrames based on a common column, you can use the pd.merge() function"
   ]
  },
  {
   "cell_type": "code",
   "execution_count": 132,
   "id": "699fac6e",
   "metadata": {},
   "outputs": [
    {
     "name": "stdout",
     "output_type": "stream",
     "text": [
      "  key  value\n",
      "0   A      1\n",
      "1   B      2\n",
      "2   C      3\n"
     ]
    }
   ],
   "source": [
    "df1 = pd.DataFrame({'key' : ['A', 'B', 'C'],\n",
    "                   'value' : [1, 2, 3]})\n",
    "print(df1)\n"
   ]
  },
  {
   "cell_type": "code",
   "execution_count": 133,
   "id": "9617c633-c495-48a2-8154-03a67df5e03c",
   "metadata": {},
   "outputs": [
    {
     "name": "stdout",
     "output_type": "stream",
     "text": [
      "  key  value\n",
      "0   B      4\n",
      "1   C      5\n",
      "2   D      6\n"
     ]
    }
   ],
   "source": [
    "df2 = pd.DataFrame({'key' : ['B', 'C', 'D'], 'value' : [4, 5, 6]})\n",
    "print(df2)"
   ]
  },
  {
   "cell_type": "code",
   "execution_count": 134,
   "id": "4cae656e",
   "metadata": {},
   "outputs": [
    {
     "name": "stdout",
     "output_type": "stream",
     "text": [
      "  key  value_left  value_right\n",
      "0   B           2            4\n",
      "1   C           3            5\n"
     ]
    }
   ],
   "source": [
    "# Merge DataFrames on the 'key' column (inner join)\n",
    "df_merged = pd.merge(df1, df2, on='key', suffixes=('_left', '_right'))\n",
    "print(df_merged)\n"
   ]
  },
  {
   "cell_type": "markdown",
   "id": "ed05ba76",
   "metadata": {},
   "source": [
    "#### Joining DataFrames\n",
    "To join DataFrames based on index, you can use the join()"
   ]
  },
  {
   "cell_type": "code",
   "execution_count": 136,
   "id": "2f847983",
   "metadata": {},
   "outputs": [
    {
     "name": "stdout",
     "output_type": "stream",
     "text": [
      "   A  B\n",
      "X  1  4\n",
      "Y  2  5\n",
      "Z  3  6\n"
     ]
    }
   ],
   "source": [
    "import pandas as pd\n",
    "\n",
    "data1 = {\n",
    "    'A': [1, 2, 3],\n",
    "    'B': [4, 5, 6]\n",
    "}\n",
    "df1 = pd.DataFrame(data1, index=['X', 'Y', 'Z'])\n",
    "print(df1)"
   ]
  },
  {
   "cell_type": "code",
   "execution_count": 138,
   "id": "04fa11f1-611d-492f-a5b9-744058b62263",
   "metadata": {},
   "outputs": [
    {
     "name": "stdout",
     "output_type": "stream",
     "text": [
      "   C   D\n",
      "Y  7  10\n",
      "Z  8  11\n",
      "W  9  12\n"
     ]
    }
   ],
   "source": [
    "data2 = {\n",
    "    'C': [7, 8, 9],\n",
    "    'D': [10, 11, 12]\n",
    "}\n",
    "\n",
    "\n",
    "df2 = pd.DataFrame(data2, index=['Y', 'Z', 'W'])\n",
    "print(df2)"
   ]
  },
  {
   "cell_type": "code",
   "execution_count": 140,
   "id": "d301c37e-cd9c-4eac-b609-faf0682d936c",
   "metadata": {},
   "outputs": [
    {
     "name": "stdout",
     "output_type": "stream",
     "text": [
      "   A  B    C     D\n",
      "X  1  4  NaN   NaN\n",
      "Y  2  5  7.0  10.0\n",
      "Z  3  6  8.0  11.0\n"
     ]
    }
   ],
   "source": [
    "# Join DataFrames using index (left join)\n",
    "df_joined = df1.join(df2, how='left')\n",
    "print(df_joined)"
   ]
  },
  {
   "cell_type": "markdown",
   "id": "239616d6",
   "metadata": {},
   "source": [
    "### Reshaping and Pivoting Data\n",
    "\n",
    "To reshape and pivot data in a DataFrame, you can use the pivot() and melt() functions.\n",
    "\n",
    "#### Pivoting Data\n",
    "\n",
    "\n",
    "The pivot() function is used to reshape a DataFrame from a \"long\" format to a \"wide\" format, where each unique value in a column becomes a new column in the output DataFrame. This function takes three main arguments: index, columns, and values. The index argument specifies the column(s) to use as the index for the output DataFrame, the columns argument specifies the column(s) to use as the new columns in the output DataFrame, and the values argument specifies the column(s) to use as the values in the output DataFrame."
   ]
  },
  {
   "cell_type": "code",
   "execution_count": 141,
   "id": "6cbc656f",
   "metadata": {},
   "outputs": [
    {
     "data": {
      "text/html": [
       "<div>\n",
       "<style scoped>\n",
       "    .dataframe tbody tr th:only-of-type {\n",
       "        vertical-align: middle;\n",
       "    }\n",
       "\n",
       "    .dataframe tbody tr th {\n",
       "        vertical-align: top;\n",
       "    }\n",
       "\n",
       "    .dataframe thead th {\n",
       "        text-align: right;\n",
       "    }\n",
       "</style>\n",
       "<table border=\"1\" class=\"dataframe\">\n",
       "  <thead>\n",
       "    <tr style=\"text-align: right;\">\n",
       "      <th></th>\n",
       "      <th>date</th>\n",
       "      <th>city</th>\n",
       "      <th>temperature</th>\n",
       "      <th>humidity</th>\n",
       "    </tr>\n",
       "  </thead>\n",
       "  <tbody>\n",
       "    <tr>\n",
       "      <th>0</th>\n",
       "      <td>2021-01-01</td>\n",
       "      <td>New York</td>\n",
       "      <td>32</td>\n",
       "      <td>80</td>\n",
       "    </tr>\n",
       "    <tr>\n",
       "      <th>1</th>\n",
       "      <td>2021-01-01</td>\n",
       "      <td>Los Angeles</td>\n",
       "      <td>75</td>\n",
       "      <td>10</td>\n",
       "    </tr>\n",
       "    <tr>\n",
       "      <th>2</th>\n",
       "      <td>2021-01-02</td>\n",
       "      <td>New York</td>\n",
       "      <td>30</td>\n",
       "      <td>85</td>\n",
       "    </tr>\n",
       "    <tr>\n",
       "      <th>3</th>\n",
       "      <td>2021-01-02</td>\n",
       "      <td>Los Angeles</td>\n",
       "      <td>77</td>\n",
       "      <td>5</td>\n",
       "    </tr>\n",
       "  </tbody>\n",
       "</table>\n",
       "</div>"
      ],
      "text/plain": [
       "         date         city  temperature  humidity\n",
       "0  2021-01-01     New York           32        80\n",
       "1  2021-01-01  Los Angeles           75        10\n",
       "2  2021-01-02     New York           30        85\n",
       "3  2021-01-02  Los Angeles           77         5"
      ]
     },
     "execution_count": 141,
     "metadata": {},
     "output_type": "execute_result"
    }
   ],
   "source": [
    "import pandas as pd\n",
    "\n",
    "data = {\n",
    "    'date': ['2021-01-01', '2021-01-01', '2021-01-02', '2021-01-02'],\n",
    "    'city': ['New York', 'Los Angeles', 'New York', 'Los Angeles'],\n",
    "    'temperature': [32, 75, 30, 77],\n",
    "    'humidity': [80, 10, 85, 5]\n",
    "}\n",
    "df = pd.DataFrame(data)\n",
    "df"
   ]
  },
  {
   "cell_type": "code",
   "execution_count": 142,
   "id": "4732a7a1-b822-4153-ad21-c85648edeeb0",
   "metadata": {},
   "outputs": [
    {
     "name": "stdout",
     "output_type": "stream",
     "text": [
      "           temperature             humidity         \n",
      "city       Los Angeles New York Los Angeles New York\n",
      "date                                                \n",
      "2021-01-01          75       32          10       80\n",
      "2021-01-02          77       30           5       85\n"
     ]
    }
   ],
   "source": [
    "# Pivot the DataFrame\n",
    "df_pivoted = df.pivot(index='date', columns='city')\n",
    "print(df_pivoted)"
   ]
  },
  {
   "cell_type": "markdown",
   "id": "4a86e349",
   "metadata": {},
   "source": [
    "#### Melting Data\n",
    "\n",
    "The melt() function, on the other hand, is used to reshape a DataFrame from a \"wide\" format to a \"long\" format, where multiple columns are \"melted\" into a single column. This function takes several arguments, including id_vars, value_vars, var_name, and value_name. The id_vars argument specifies the column(s) to use as identifier variables, the value_vars argument specifies the column(s) to use as the values to be melted, the var_name argument specifies the name for the new column that will contain the melted column headers, and the value_name argument specifies the name for the new column that will contain the melted values."
   ]
  },
  {
   "cell_type": "code",
   "execution_count": 143,
   "id": "1582d4bf",
   "metadata": {},
   "outputs": [
    {
     "data": {
      "text/html": [
       "<div>\n",
       "<style scoped>\n",
       "    .dataframe tbody tr th:only-of-type {\n",
       "        vertical-align: middle;\n",
       "    }\n",
       "\n",
       "    .dataframe tbody tr th {\n",
       "        vertical-align: top;\n",
       "    }\n",
       "\n",
       "    .dataframe thead th {\n",
       "        text-align: right;\n",
       "    }\n",
       "</style>\n",
       "<table border=\"1\" class=\"dataframe\">\n",
       "  <thead>\n",
       "    <tr style=\"text-align: right;\">\n",
       "      <th></th>\n",
       "      <th>date</th>\n",
       "      <th>New York_temperature</th>\n",
       "      <th>New York_humidity</th>\n",
       "      <th>Los Angeles_temperature</th>\n",
       "      <th>Los Angeles_humidity</th>\n",
       "    </tr>\n",
       "  </thead>\n",
       "  <tbody>\n",
       "    <tr>\n",
       "      <th>0</th>\n",
       "      <td>2021-01-01</td>\n",
       "      <td>32</td>\n",
       "      <td>80</td>\n",
       "      <td>75</td>\n",
       "      <td>10</td>\n",
       "    </tr>\n",
       "    <tr>\n",
       "      <th>1</th>\n",
       "      <td>2021-01-02</td>\n",
       "      <td>30</td>\n",
       "      <td>85</td>\n",
       "      <td>77</td>\n",
       "      <td>5</td>\n",
       "    </tr>\n",
       "  </tbody>\n",
       "</table>\n",
       "</div>"
      ],
      "text/plain": [
       "         date  New York_temperature  New York_humidity  \\\n",
       "0  2021-01-01                    32                 80   \n",
       "1  2021-01-02                    30                 85   \n",
       "\n",
       "   Los Angeles_temperature  Los Angeles_humidity  \n",
       "0                       75                    10  \n",
       "1                       77                     5  "
      ]
     },
     "execution_count": 143,
     "metadata": {},
     "output_type": "execute_result"
    }
   ],
   "source": [
    "import pandas as pd\n",
    "\n",
    "data = {\n",
    "    'date': ['2021-01-01', '2021-01-02'],\n",
    "    'New York_temperature': [32, 30],\n",
    "    'New York_humidity': [80, 85],\n",
    "    'Los Angeles_temperature': [75, 77],\n",
    "    'Los Angeles_humidity': [10, 5]\n",
    "}\n",
    "df = pd.DataFrame(data)\n",
    "df\n"
   ]
  },
  {
   "cell_type": "code",
   "execution_count": 144,
   "id": "c93ad719-cb76-462b-b46a-a01069558f90",
   "metadata": {},
   "outputs": [
    {
     "data": {
      "text/html": [
       "<div>\n",
       "<style scoped>\n",
       "    .dataframe tbody tr th:only-of-type {\n",
       "        vertical-align: middle;\n",
       "    }\n",
       "\n",
       "    .dataframe tbody tr th {\n",
       "        vertical-align: top;\n",
       "    }\n",
       "\n",
       "    .dataframe thead th {\n",
       "        text-align: right;\n",
       "    }\n",
       "</style>\n",
       "<table border=\"1\" class=\"dataframe\">\n",
       "  <thead>\n",
       "    <tr style=\"text-align: right;\">\n",
       "      <th></th>\n",
       "      <th>date</th>\n",
       "      <th>city_and_measure</th>\n",
       "      <th>value</th>\n",
       "    </tr>\n",
       "  </thead>\n",
       "  <tbody>\n",
       "    <tr>\n",
       "      <th>0</th>\n",
       "      <td>2021-01-01</td>\n",
       "      <td>New York_temperature</td>\n",
       "      <td>32</td>\n",
       "    </tr>\n",
       "    <tr>\n",
       "      <th>1</th>\n",
       "      <td>2021-01-02</td>\n",
       "      <td>New York_temperature</td>\n",
       "      <td>30</td>\n",
       "    </tr>\n",
       "    <tr>\n",
       "      <th>2</th>\n",
       "      <td>2021-01-01</td>\n",
       "      <td>New York_humidity</td>\n",
       "      <td>80</td>\n",
       "    </tr>\n",
       "    <tr>\n",
       "      <th>3</th>\n",
       "      <td>2021-01-02</td>\n",
       "      <td>New York_humidity</td>\n",
       "      <td>85</td>\n",
       "    </tr>\n",
       "    <tr>\n",
       "      <th>4</th>\n",
       "      <td>2021-01-01</td>\n",
       "      <td>Los Angeles_temperature</td>\n",
       "      <td>75</td>\n",
       "    </tr>\n",
       "    <tr>\n",
       "      <th>5</th>\n",
       "      <td>2021-01-02</td>\n",
       "      <td>Los Angeles_temperature</td>\n",
       "      <td>77</td>\n",
       "    </tr>\n",
       "    <tr>\n",
       "      <th>6</th>\n",
       "      <td>2021-01-01</td>\n",
       "      <td>Los Angeles_humidity</td>\n",
       "      <td>10</td>\n",
       "    </tr>\n",
       "    <tr>\n",
       "      <th>7</th>\n",
       "      <td>2021-01-02</td>\n",
       "      <td>Los Angeles_humidity</td>\n",
       "      <td>5</td>\n",
       "    </tr>\n",
       "  </tbody>\n",
       "</table>\n",
       "</div>"
      ],
      "text/plain": [
       "         date         city_and_measure  value\n",
       "0  2021-01-01     New York_temperature     32\n",
       "1  2021-01-02     New York_temperature     30\n",
       "2  2021-01-01        New York_humidity     80\n",
       "3  2021-01-02        New York_humidity     85\n",
       "4  2021-01-01  Los Angeles_temperature     75\n",
       "5  2021-01-02  Los Angeles_temperature     77\n",
       "6  2021-01-01     Los Angeles_humidity     10\n",
       "7  2021-01-02     Los Angeles_humidity      5"
      ]
     },
     "execution_count": 144,
     "metadata": {},
     "output_type": "execute_result"
    }
   ],
   "source": [
    "# Melt the DataFrame\n",
    "df_melted = pd.melt(df, id_vars='date', var_name='city_and_measure', value_name='value')\n",
    "df_melted\n"
   ]
  },
  {
   "cell_type": "markdown",
   "id": "089c9f5f",
   "metadata": {},
   "source": [
    "### Applying Functions to Data\n",
    "\n",
    "You can apply functions to the data in a DataFrame using the apply() and applymap() methods."
   ]
  },
  {
   "cell_type": "code",
   "execution_count": 145,
   "id": "7fca3d81",
   "metadata": {},
   "outputs": [
    {
     "name": "stdout",
     "output_type": "stream",
     "text": [
      "A     6\n",
      "B    15\n",
      "C    24\n",
      "dtype: int64\n"
     ]
    }
   ],
   "source": [
    "import pandas as pd\n",
    "\n",
    "data = {\n",
    "    'A': [1, 2, 3],\n",
    "    'B': [4, 5, 6],\n",
    "    'C': [7, 8, 9]\n",
    "}\n",
    "df = pd.DataFrame(data)\n",
    "\n",
    "\n",
    "# Apply a function to each column\n",
    "def column_sum(col):\n",
    "    return col.sum()\n",
    "\n",
    "df_sum = df.apply(column_sum)\n",
    "print(df_sum)\n",
    "\n",
    "\n"
   ]
  },
  {
   "cell_type": "code",
   "execution_count": 146,
   "id": "37d23d5c-4fc8-4205-99b8-f3667b20803b",
   "metadata": {},
   "outputs": [
    {
     "name": "stdout",
     "output_type": "stream",
     "text": [
      "   A   B   C\n",
      "0  2   8  14\n",
      "1  4  10  16\n",
      "2  6  12  18\n"
     ]
    },
    {
     "name": "stderr",
     "output_type": "stream",
     "text": [
      "C:\\Users\\bency\\AppData\\Local\\Temp\\ipykernel_16144\\3651559528.py:5: FutureWarning: DataFrame.applymap has been deprecated. Use DataFrame.map instead.\n",
      "  df_doubled = df.applymap(double)\n"
     ]
    }
   ],
   "source": [
    "# Apply a function to each element\n",
    "def double(x):\n",
    "    return x * 2\n",
    "\n",
    "df_doubled = df.applymap(double)\n",
    "print(df_doubled)"
   ]
  },
  {
   "cell_type": "markdown",
   "id": "95b772f8",
   "metadata": {},
   "source": [
    "### Column  Operations\n",
    "You can perform various operations on columns and indexes in a DataFrame, such as adding, deleting, and reordering columns or changing the index."
   ]
  },
  {
   "cell_type": "code",
   "execution_count": 147,
   "id": "678f5463",
   "metadata": {},
   "outputs": [
    {
     "name": "stdout",
     "output_type": "stream",
     "text": [
      "   A  B  C   D\n",
      "0  1  4  7  10\n",
      "1  2  5  8  11\n",
      "2  3  6  9  12\n"
     ]
    }
   ],
   "source": [
    "import pandas as pd\n",
    "\n",
    "data = {\n",
    "    'A': [1, 2, 3],\n",
    "    'B': [4, 5, 6],\n",
    "    'C': [7, 8, 9]\n",
    "}\n",
    "df = pd.DataFrame(data)\n",
    "\n",
    "# Add a new column\n",
    "df['D'] = [10, 11, 12]\n",
    "print(df)\n"
   ]
  },
  {
   "cell_type": "code",
   "execution_count": 148,
   "id": "fe72bea7-3f5d-41d6-8e39-0a618807d68a",
   "metadata": {
    "scrolled": true
   },
   "outputs": [
    {
     "name": "stdout",
     "output_type": "stream",
     "text": [
      "   A  B  C\n",
      "0  1  4  7\n",
      "1  2  5  8\n",
      "2  3  6  9\n"
     ]
    }
   ],
   "source": [
    "\n",
    "# Delete a column\n",
    "df = df.drop('D', axis=1)\n",
    "print(df)\n"
   ]
  },
  {
   "cell_type": "code",
   "execution_count": 149,
   "id": "071e1a6b-6166-48ca-90eb-2842ed5efb50",
   "metadata": {},
   "outputs": [
    {
     "name": "stdout",
     "output_type": "stream",
     "text": [
      "   C  A  B\n",
      "0  7  1  4\n",
      "1  8  2  5\n",
      "2  9  3  6\n"
     ]
    }
   ],
   "source": [
    "\n",
    "# Reorder columns\n",
    "df = df[['C', 'A', 'B']]\n",
    "print(df)\n"
   ]
  },
  {
   "cell_type": "code",
   "execution_count": 150,
   "id": "234b75c7-b9e1-48f5-aafc-00bf37a8acb8",
   "metadata": {
    "scrolled": true
   },
   "outputs": [
    {
     "name": "stdout",
     "output_type": "stream",
     "text": [
      "   C   A  B\n",
      "0  7  10  4\n",
      "1  8  20  5\n",
      "2  9  30  6\n"
     ]
    }
   ],
   "source": [
    "\n",
    "# Update a column\n",
    "df['A'] = [10, 20, 30]\n",
    "print(df)\n"
   ]
  },
  {
   "cell_type": "code",
   "execution_count": 151,
   "id": "64281d51-24aa-4287-aee4-7c5a05ec42e4",
   "metadata": {},
   "outputs": [],
   "source": [
    "\n",
    "# Reset index\n",
    "df_reset = df.reset_index(drop=True)\n"
   ]
  },
  {
   "cell_type": "markdown",
   "id": "41e94696",
   "metadata": {},
   "source": [
    "###  Row  Operations\n",
    "To add a new row to a DataFrame, you can use a dictionary of values or another DataFrame."
   ]
  },
  {
   "cell_type": "code",
   "execution_count": 160,
   "id": "2fe62aaf-39e3-4de0-acbf-6e34f6f734c7",
   "metadata": {},
   "outputs": [
    {
     "data": {
      "text/html": [
       "<div>\n",
       "<style scoped>\n",
       "    .dataframe tbody tr th:only-of-type {\n",
       "        vertical-align: middle;\n",
       "    }\n",
       "\n",
       "    .dataframe tbody tr th {\n",
       "        vertical-align: top;\n",
       "    }\n",
       "\n",
       "    .dataframe thead th {\n",
       "        text-align: right;\n",
       "    }\n",
       "</style>\n",
       "<table border=\"1\" class=\"dataframe\">\n",
       "  <thead>\n",
       "    <tr style=\"text-align: right;\">\n",
       "      <th></th>\n",
       "      <th>A</th>\n",
       "      <th>B</th>\n",
       "    </tr>\n",
       "  </thead>\n",
       "  <tbody>\n",
       "    <tr>\n",
       "      <th>0</th>\n",
       "      <td>1</td>\n",
       "      <td>3</td>\n",
       "    </tr>\n",
       "    <tr>\n",
       "      <th>1</th>\n",
       "      <td>2</td>\n",
       "      <td>4</td>\n",
       "    </tr>\n",
       "    <tr>\n",
       "      <th>2</th>\n",
       "      <td>5</td>\n",
       "      <td>6</td>\n",
       "    </tr>\n",
       "  </tbody>\n",
       "</table>\n",
       "</div>"
      ],
      "text/plain": [
       "   A  B\n",
       "0  1  3\n",
       "1  2  4\n",
       "2  5  6"
      ]
     },
     "execution_count": 160,
     "metadata": {},
     "output_type": "execute_result"
    }
   ],
   "source": [
    "data = {\n",
    "    'A': [1, 2],\n",
    "    'B': [3, 4]\n",
    "}\n",
    "df = pd.DataFrame(data)\n",
    "new_row = {'A': 5, 'B': 6}\n",
    "df.loc[2] = new_row\n",
    "df"
   ]
  },
  {
   "cell_type": "markdown",
   "id": "f060da11",
   "metadata": {},
   "source": [
    "# Assignment: Getting Started with Pandas"
   ]
  },
  {
   "cell_type": "markdown",
   "id": "c9c4268e",
   "metadata": {},
   "source": [
    "In this assignment, you will practice using the Pandas library by performing some basic operations on a given dataset. You will explore the dataset, clean and manipulate the data, and answer some questions based on the data.\n",
    "\n",
    "### Dataset \n",
    "\n",
    "The dataset you will be working with is a collection of information about various video games and their sales. which can be found here. https://www.kaggle.com/datasets/gregorut/videogamesales\n",
    "\n",
    "### Instructions\n",
    "* 1 Import the necessary libraries and load the dataset.\n",
    "* 2 Display the first 10 rows of the dataset.\n",
    "* 3 Display the shape and basic information about the dataset.\n",
    "* 4 Check for missing data and handle it appropriately.\n",
    "* 5 Display the top 5 video games by global sale\n",
    "* 6 Calculate the total sales in North America for the 'Action' genre.\n",
    "* 7 Find the top 3 publishers by global sales.\n",
    "* 8 Calculate the average sales in Europe for the 'Shooter' genre.\n",
    "* 9 Find the game with the highest sales in Japan in the 'Sports' genre."
   ]
  },
  {
   "cell_type": "code",
   "execution_count": null,
   "id": "0447c263-b844-44ac-85d4-5679a1254cff",
   "metadata": {},
   "outputs": [],
   "source": []
  }
 ],
 "metadata": {
  "kernelspec": {
   "display_name": "Python 3 (ipykernel)",
   "language": "python",
   "name": "python3"
  },
  "language_info": {
   "codemirror_mode": {
    "name": "ipython",
    "version": 3
   },
   "file_extension": ".py",
   "mimetype": "text/x-python",
   "name": "python",
   "nbconvert_exporter": "python",
   "pygments_lexer": "ipython3",
   "version": "3.11.7"
  }
 },
 "nbformat": 4,
 "nbformat_minor": 5
}
