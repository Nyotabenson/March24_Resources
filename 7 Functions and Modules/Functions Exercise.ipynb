{
 "cells": [
  {
   "cell_type": "markdown",
   "id": "c8036f8a",
   "metadata": {},
   "source": [
    "# Take Away\n",
    "\n",
    "\n",
    "<br>\n",
    "<br>\n",
    "\n",
    "\n",
    "\n",
    "### 1.Write a Python program to reverse a string.\n",
    "\n",
    "\n",
    "<br>\n",
    "<br>\n",
    "\n",
    "\n",
    "Sample String: \"1234abcd\"\n",
    "\n",
    "Expected Output: \"dcba4321\""
   ]
  },
  {
   "cell_type": "markdown",
   "id": "5db3cd11",
   "metadata": {},
   "source": [
    "### 2. What is the use of the following functions in Python Programming:\n",
    "\n",
    "\n",
    "\n",
    "1. truncate()\n",
    "\n",
    "\n",
    "2. ceil()\n",
    "\n",
    "\n",
    "3. round()\n",
    "\n",
    "\n",
    "4. floor()"
   ]
  }
 ],
 "metadata": {
  "kernelspec": {
   "display_name": "Python 3 (ipykernel)",
   "language": "python",
   "name": "python3"
  },
  "language_info": {
   "codemirror_mode": {
    "name": "ipython",
    "version": 3
   },
   "file_extension": ".py",
   "mimetype": "text/x-python",
   "name": "python",
   "nbconvert_exporter": "python",
   "pygments_lexer": "ipython3",
   "version": "3.11.5"
  }
 },
 "nbformat": 4,
 "nbformat_minor": 5
}
